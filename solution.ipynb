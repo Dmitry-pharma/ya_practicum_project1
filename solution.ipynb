{
 "cells": [
  {
   "cell_type": "code",
   "execution_count": 18,
   "id": "0f18c312",
   "metadata": {},
   "outputs": [],
   "source": [
    "import torch\n",
    "from tqdm import tqdm\n",
    "from pathlib import Path\n",
    "import json\n",
    "from datetime import datetime\n",
    "#from sklearn.model_selection import train_test_split\n",
    "from torch.utils.data import DataLoader\n",
    "# import pandas as pd\n",
    "# import random\n",
    "# from collections import Counter\n",
    "\n",
    "from transformers import AutoTokenizer, GPT2LMHeadModel\n",
    "from transformers import BertTokenizerFast\n",
    "import os\n",
    "# os.environ[\"TOKENIZERS_PARALLELISM\"] = \"false\" #необходимо на виртуальной машине Explicitly set the environment variable TOKENIZERS_PARALLELISM=(true | false)\n",
    "# ./src\n",
    "from src.data_utils import samples_preparation, load_datasets,load_samples,dataset_preparation#,load_and_clean_data, prepare_training_pairs\n",
    "#from src.next_token_dataset import TweetsDataset\n",
    "from src.lstm_model import NextPhrasePredictionRNN\n",
    "from src.eval_lstm import vevaluate3, test_model, analyze_predictions, analyze_error_patterns, show_detailed_examples\n",
    "from src.visualization import create_visualization\n",
    "# для тестирования и сравнения тестов по lstm и distilgpt2\n",
    "from src.test_models import test_lstm_model, test_transformer_model_new,prepare_transformer_dataset_from_loader, test_transformer_with_generation, compare_models\n",
    "# test_transformer_with_generation,create_test_dataset, test_lstm_model,prepare_transformer_dataset,test_transformer_model,compare_models\n",
    "# подготовка таблицы сравнения результатов вывода между моделями\n",
    "from src.test_models_table import create_test_dataset, load_lstm_model,generate_lstm_completion,generate_gpt2_completion,calculate_rouge,get_actual_continuation,create_comparison_table\n",
    "from src.test_comparison_table import compare_models_lstm_vs_gpt2"
   ]
  },
  {
   "cell_type": "code",
   "execution_count": 2,
   "id": "b6b674f8",
   "metadata": {},
   "outputs": [],
   "source": [
    "# pip install torch torchvision --index-url https://download.pytorch.org/whl/cu128"
   ]
  },
  {
   "cell_type": "code",
   "execution_count": 3,
   "id": "bd235cf4",
   "metadata": {},
   "outputs": [],
   "source": [
    "#оставляем в главном коде\n",
    "def train_epoch(model, loader, optimizer, criterion, device):\n",
    "    model.train()\n",
    "    total_loss = 0\n",
    "    progress_bar = tqdm(loader, desc=\"Train\", leave=False)\n",
    "    \n",
    "    for batch in progress_bar:\n",
    "        ids = batch['data'].to(device)\n",
    "        mask = batch['mask'].to(device)\n",
    "        labels = batch['target'].to(device)\n",
    "\n",
    "        optimizer.zero_grad()\n",
    "        logits = model(ids, mask)\n",
    "        \n",
    "        logits_flat = logits.reshape(-1, logits.size(-1))\n",
    "        labels_flat = labels.reshape(-1)\n",
    "        \n",
    "        loss = criterion(logits_flat, labels_flat)\n",
    "        loss.backward()\n",
    "        torch.nn.utils.clip_grad_norm_(model.parameters(), max_norm=1.0)\n",
    "        optimizer.step()\n",
    "\n",
    "        total_loss += loss.item()\n",
    "        progress_bar.set_postfix({\"Loss\": f\"{loss.item():.4f}\"})\n",
    "        \n",
    "    return total_loss / len(loader)"
   ]
  },
  {
   "cell_type": "code",
   "execution_count": 4,
   "id": "6985160d",
   "metadata": {},
   "outputs": [],
   "source": [
    "def save_model(model, optimizer, epoch, accuracy, loss, path, tokenizer, config):\n",
    "    torch.save({\n",
    "        'epoch': epoch,\n",
    "        'model_state_dict': model.state_dict(),\n",
    "        'optimizer_state_dict': optimizer.state_dict(),\n",
    "        'accuracy': accuracy,\n",
    "        'loss': loss,       \n",
    "        'model_config': {\n",
    "            'vocab_size': config['vocab_size'],\n",
    "            'emb_dim': config['emb_dim'],\n",
    "            'hidden_dim': config['hidden_dim'],\n",
    "            'num_layers':config['num_layers'],\n",
    "            'pad_idx': config['pad_idx']           \n",
    "        }\n",
    "    }, path)\n"
   ]
  },
  {
   "cell_type": "code",
   "execution_count": 5,
   "id": "be896721",
   "metadata": {},
   "outputs": [
    {
     "name": "stdout",
     "output_type": "stream",
     "text": [
      "Config:  {'data_dir': WindowsPath('c:/Users/OMEN/Documents/LLM_Test/YaPracticum/project1_text-autocomplete_v3/data'), 'source_file': '1_raw_dataset_tweets.txt', 'model_dir': WindowsPath('c:/Users/OMEN/Documents/LLM_Test/YaPracticum/project1_text-autocomplete_v3/models'), 'MAX_LEN': 10, 'num_epoch': 200, 'limit': 500000, 'num_layers': 2, 'hidden_dim': 128, 'emb_dim': 300, 'batch_size': 256, 'rnn_type': 'LSTM', 'tokenizer': BertTokenizerFast(name_or_path='bert-base-uncased', vocab_size=30522, model_max_length=512, is_fast=True, padding_side='right', truncation_side='right', special_tokens={'unk_token': '[UNK]', 'sep_token': '[SEP]', 'pad_token': '[PAD]', 'cls_token': '[CLS]', 'mask_token': '[MASK]'}, clean_up_tokenization_spaces=False, added_tokens_decoder={\n",
      "\t0: AddedToken(\"[PAD]\", rstrip=False, lstrip=False, single_word=False, normalized=False, special=True),\n",
      "\t100: AddedToken(\"[UNK]\", rstrip=False, lstrip=False, single_word=False, normalized=False, special=True),\n",
      "\t101: AddedToken(\"[CLS]\", rstrip=False, lstrip=False, single_word=False, normalized=False, special=True),\n",
      "\t102: AddedToken(\"[SEP]\", rstrip=False, lstrip=False, single_word=False, normalized=False, special=True),\n",
      "\t103: AddedToken(\"[MASK]\", rstrip=False, lstrip=False, single_word=False, normalized=False, special=True),\n",
      "}\n",
      "), 'pad_idx': 0, 'vocab_size': 30522, 'compute_rouge': True}\n"
     ]
    }
   ],
   "source": [
    "# Конфигурация\n",
    "current_dir = Path(os.getcwd())\n",
    "# print(current_dir)\n",
    "#   'file_path': Path(__file__).parent.parent / 'data' / '1_raw_dataset_tweets.txt',\n",
    "#     'model_dir': Path(__file__).parent.parent / 'models',  \n",
    "tokenizer = BertTokenizerFast.from_pretrained(\"bert-base-uncased\")\n",
    "config = {\n",
    "    'data_dir': Path(current_dir) / 'data',\n",
    "    'source_file': '1_raw_dataset_tweets.txt',\n",
    "    'model_dir': Path(current_dir) / 'models',\n",
    "    'MAX_LEN': 10,\n",
    "    'num_epoch':200,\n",
    "    'limit': 500000,\n",
    "    'num_layers':2,\n",
    "    'hidden_dim': 128, #128#256#512\n",
    "    'emb_dim': 300,\n",
    "    'batch_size': 256,\n",
    "    'rnn_type': \"LSTM\",#\"GRU\",#\"LSTM\",\n",
    "    'tokenizer': tokenizer,\n",
    "    'pad_idx':tokenizer.pad_token_id,\n",
    "    'vocab_size': tokenizer.vocab_size,\n",
    "    'compute_rouge': True\n",
    "}\n",
    "\n",
    "\n",
    "print('Config: ',config)\n",
    "\n",
    "config['model_dir'].mkdir(exist_ok=True)\n"
   ]
  },
  {
   "cell_type": "code",
   "execution_count": 6,
   "id": "3d0c8493",
   "metadata": {},
   "outputs": [
    {
     "name": "stdout",
     "output_type": "stream",
     "text": [
      "Загружено 500000 строк\n",
      "Cleaning...\n"
     ]
    },
    {
     "name": "stderr",
     "output_type": "stream",
     "text": [
      "100%|██████████| 500000/500000 [00:03<00:00, 132030.57it/s]\n"
     ]
    },
    {
     "name": "stdout",
     "output_type": "stream",
     "text": [
      "Cleaning READY!\n",
      "Таблица сохранена: c:\\Users\\OMEN\\Documents\\LLM_Test\\YaPracticum\\project1_text-autocomplete_v3\\data\\train_dataset.csv\n",
      "Таблица сохранена: c:\\Users\\OMEN\\Documents\\LLM_Test\\YaPracticum\\project1_text-autocomplete_v3\\data\\val_dataset.csv\n",
      "Таблица сохранена: c:\\Users\\OMEN\\Documents\\LLM_Test\\YaPracticum\\project1_text-autocomplete_v3\\data\\test_dataset.csv\n",
      "Создание обучающего датасета.\n",
      "Preparing X, Y pairs...\n"
     ]
    },
    {
     "name": "stderr",
     "output_type": "stream",
     "text": [
      "100%|██████████| 400000/400000 [00:33<00:00, 11860.23it/s]\n"
     ]
    },
    {
     "name": "stdout",
     "output_type": "stream",
     "text": [
      "PAIRS ARE READY!\n",
      "✅ Датасет создан: Size=323886\n",
      "Создание валидационного датасета.\n",
      "Preparing X, Y pairs...\n"
     ]
    },
    {
     "name": "stderr",
     "output_type": "stream",
     "text": [
      "100%|██████████| 50000/50000 [00:04<00:00, 11918.46it/s]\n"
     ]
    },
    {
     "name": "stdout",
     "output_type": "stream",
     "text": [
      "PAIRS ARE READY!\n",
      "✅ Датасет создан: Size=40498\n",
      "Создание тестового датасета.\n",
      "Preparing X, Y pairs...\n"
     ]
    },
    {
     "name": "stderr",
     "output_type": "stream",
     "text": [
      "100%|██████████| 50000/50000 [00:04<00:00, 11929.69it/s]"
     ]
    },
    {
     "name": "stdout",
     "output_type": "stream",
     "text": [
      "PAIRS ARE READY!\n",
      "✅ Датасет создан: Size=40843\n"
     ]
    },
    {
     "name": "stderr",
     "output_type": "stream",
     "text": [
      "\n"
     ]
    }
   ],
   "source": [
    "# Загрузка и подготовка данных\n",
    "\n",
    "# формируем заново (v_from_file=0) или загружаем из фалов (v_from_file=1)\n",
    "v_file_path=config['data_dir']\n",
    "v_from_file=False\n",
    "if v_from_file: \n",
    "    train =load_samples(v_file_path / 'train_dataset.csv')\n",
    "    val = load_samples(v_file_path / 'val_dataset.csv')\n",
    "    test = load_samples(v_file_path / 'test_dataset.csv')        \n",
    "else:\n",
    "    number_samples=config['limit']\n",
    "    train,val,test = samples_preparation(\n",
    "        v_file_path,\n",
    "        config['source_file'],\n",
    "        number_samples)\n",
    "# train_ds, val_ds, test_ds, train_loader, val_loader, test_loader\n",
    "\n",
    "print(\"Создание обучающего датасета.\")\n",
    "train_ds,  train_loader = dataset_preparation(\n",
    "    train, \n",
    "    tokenizer, \n",
    "    MAX_LEN=config['MAX_LEN'], \n",
    "    batch_size=config['batch_size'],\n",
    "    shuffle=True)\n",
    "print(\"Создание валидационного датасета.\")\n",
    "val_ds,  val_loader = dataset_preparation(\n",
    "    val, \n",
    "    tokenizer, \n",
    "    MAX_LEN=config['MAX_LEN'], \n",
    "    batch_size=config['batch_size'],\n",
    "    shuffle=False)\n",
    "print(\"Создание тестового датасета.\")\n",
    "test_ds,  test_loader = dataset_preparation(\n",
    "    test, \n",
    "    tokenizer, \n",
    "    MAX_LEN=config['MAX_LEN'], \n",
    "    batch_size=config['batch_size'],\n",
    "    shuffle=False)"
   ]
  },
  {
   "cell_type": "code",
   "execution_count": 7,
   "id": "33b0de0d",
   "metadata": {},
   "outputs": [
    {
     "name": "stdout",
     "output_type": "stream",
     "text": [
      "cuda\n"
     ]
    }
   ],
   "source": [
    "# Модель, оптимизатор и функция ошибки\n",
    "device = torch.device(\"cuda\" if torch.cuda.is_available() else \"cpu\")\n",
    "print(device)\n",
    "# pad_token_id = tokenizer.pad_token_id\n",
    "\n",
    "model = NextPhrasePredictionRNN(\n",
    "    rnn_type=config['rnn_type'],\n",
    "    vocab_size=tokenizer.vocab_size,\n",
    "    num_layers=config['num_layers'],\n",
    "    emb_dim=config['emb_dim'],\n",
    "    hidden_dim=config['hidden_dim'],\n",
    "    pad_idx=config['pad_idx']#pad_token_id\n",
    ").to(device)\n",
    "\n",
    "optimizer = torch.optim.AdamW(model.parameters(), lr=1e-4, weight_decay=0.05)#1e-3, lr=3e-3)lr=1e-4, weight_decay=0.01, 0.001\n",
    "criterion = torch.nn.CrossEntropyLoss(ignore_index=config['pad_idx'])#pad_token_id)\n"
   ]
  },
  {
   "cell_type": "code",
   "execution_count": 8,
   "id": "6e856924",
   "metadata": {},
   "outputs": [
    {
     "name": "stdout",
     "output_type": "stream",
     "text": [
      "🎯 Начало обучения...\n"
     ]
    },
    {
     "name": "stderr",
     "output_type": "stream",
     "text": [
      "Обучение:   0%|          | 1/200 [00:40<2:13:56, 40.38s/эпоха, TLoss=7.2205, VLoss=6.7252, VAcc=0.0607, BestVAcc=0.0607, Patience=0/50, R1=0.089, R2=0.000]"
     ]
    },
    {
     "name": "stdout",
     "output_type": "stream",
     "text": [
      "💾 Сохранена лучшая модель с accuracy: 0.0607\n"
     ]
    },
    {
     "name": "stderr",
     "output_type": "stream",
     "text": [
      "Обучение:   1%|          | 2/200 [01:19<2:11:41, 39.91s/эпоха, TLoss=6.5876, VLoss=6.2924, VAcc=0.1019, BestVAcc=0.1019, Patience=0/50, R1=0.110, R2=0.000]"
     ]
    },
    {
     "name": "stdout",
     "output_type": "stream",
     "text": [
      "💾 Сохранена лучшая модель с accuracy: 0.1019\n"
     ]
    },
    {
     "name": "stderr",
     "output_type": "stream",
     "text": [
      "Обучение:   2%|▏         | 3/200 [01:59<2:10:20, 39.70s/эпоха, TLoss=6.3068, VLoss=6.0877, VAcc=0.1174, BestVAcc=0.1174, Patience=0/50, R1=0.116, R2=0.000]"
     ]
    },
    {
     "name": "stdout",
     "output_type": "stream",
     "text": [
      "💾 Сохранена лучшая модель с accuracy: 0.1174\n"
     ]
    },
    {
     "name": "stderr",
     "output_type": "stream",
     "text": [
      "Обучение:   2%|▏         | 4/200 [02:40<2:11:27, 40.24s/эпоха, TLoss=6.1558, VLoss=5.9547, VAcc=0.1291, BestVAcc=0.1291, Patience=0/50, R1=0.142, R2=0.005]"
     ]
    },
    {
     "name": "stdout",
     "output_type": "stream",
     "text": [
      "💾 Сохранена лучшая модель с accuracy: 0.1291\n"
     ]
    },
    {
     "name": "stderr",
     "output_type": "stream",
     "text": [
      "Обучение:   2%|▎         | 5/200 [03:23<2:13:42, 41.14s/эпоха, TLoss=6.0507, VLoss=5.8559, VAcc=0.1370, BestVAcc=0.1370, Patience=0/50, R1=0.148, R2=0.005]"
     ]
    },
    {
     "name": "stdout",
     "output_type": "stream",
     "text": [
      "💾 Сохранена лучшая модель с accuracy: 0.1370\n"
     ]
    },
    {
     "name": "stderr",
     "output_type": "stream",
     "text": [
      "Обучение:   3%|▎         | 6/200 [04:06<2:15:04, 41.78s/эпоха, TLoss=5.9745, VLoss=5.7835, VAcc=0.1411, BestVAcc=0.1411, Patience=0/50, R1=0.163, R2=0.011]"
     ]
    },
    {
     "name": "stdout",
     "output_type": "stream",
     "text": [
      "💾 Сохранена лучшая модель с accuracy: 0.1411\n"
     ]
    },
    {
     "name": "stderr",
     "output_type": "stream",
     "text": [
      "Обучение:   4%|▎         | 7/200 [04:49<2:15:40, 42.18s/эпоха, TLoss=5.9128, VLoss=5.7282, VAcc=0.1435, BestVAcc=0.1435, Patience=0/50, R1=0.159, R2=0.005]"
     ]
    },
    {
     "name": "stdout",
     "output_type": "stream",
     "text": [
      "💾 Сохранена лучшая модель с accuracy: 0.1435\n"
     ]
    },
    {
     "name": "stderr",
     "output_type": "stream",
     "text": [
      "Обучение:   4%|▍         | 8/200 [05:32<2:16:30, 42.66s/эпоха, TLoss=5.8643, VLoss=5.6804, VAcc=0.1479, BestVAcc=0.1479, Patience=0/50, R1=0.150, R2=0.005]"
     ]
    },
    {
     "name": "stdout",
     "output_type": "stream",
     "text": [
      "💾 Сохранена лучшая модель с accuracy: 0.1479\n"
     ]
    },
    {
     "name": "stderr",
     "output_type": "stream",
     "text": [
      "Обучение:   4%|▍         | 9/200 [06:15<2:16:03, 42.74s/эпоха, TLoss=5.8221, VLoss=5.6431, VAcc=0.1504, BestVAcc=0.1504, Patience=0/50, R1=0.165, R2=0.007]"
     ]
    },
    {
     "name": "stdout",
     "output_type": "stream",
     "text": [
      "💾 Сохранена лучшая модель с accuracy: 0.1504\n"
     ]
    },
    {
     "name": "stderr",
     "output_type": "stream",
     "text": [
      "Обучение:   5%|▌         | 10/200 [06:58<2:15:29, 42.79s/эпоха, TLoss=5.7856, VLoss=5.6091, VAcc=0.1531, BestVAcc=0.1531, Patience=0/50, R1=0.175, R2=0.007]"
     ]
    },
    {
     "name": "stdout",
     "output_type": "stream",
     "text": [
      "💾 Сохранена лучшая модель с accuracy: 0.1531\n"
     ]
    },
    {
     "name": "stderr",
     "output_type": "stream",
     "text": [
      "Обучение:   6%|▌         | 11/200 [07:41<2:15:02, 42.87s/эпоха, TLoss=5.7546, VLoss=5.5803, VAcc=0.1558, BestVAcc=0.1558, Patience=0/50, R1=0.171, R2=0.007]"
     ]
    },
    {
     "name": "stdout",
     "output_type": "stream",
     "text": [
      "💾 Сохранена лучшая модель с accuracy: 0.1558\n"
     ]
    },
    {
     "name": "stderr",
     "output_type": "stream",
     "text": [
      "Обучение:   6%|▌         | 12/200 [08:25<2:14:58, 43.08s/эпоха, TLoss=5.7250, VLoss=5.5559, VAcc=0.1578, BestVAcc=0.1578, Patience=0/50, R1=0.187, R2=0.007]"
     ]
    },
    {
     "name": "stdout",
     "output_type": "stream",
     "text": [
      "💾 Сохранена лучшая модель с accuracy: 0.1578\n"
     ]
    },
    {
     "name": "stderr",
     "output_type": "stream",
     "text": [
      "Обучение:   6%|▋         | 13/200 [09:08<2:14:25, 43.13s/эпоха, TLoss=5.6984, VLoss=5.5342, VAcc=0.1589, BestVAcc=0.1589, Patience=0/50, R1=0.184, R2=0.007]"
     ]
    },
    {
     "name": "stdout",
     "output_type": "stream",
     "text": [
      "💾 Сохранена лучшая модель с accuracy: 0.1589\n"
     ]
    },
    {
     "name": "stderr",
     "output_type": "stream",
     "text": [
      "Обучение:   7%|▋         | 14/200 [09:52<2:13:57, 43.21s/эпоха, TLoss=5.6744, VLoss=5.5094, VAcc=0.1615, BestVAcc=0.1615, Patience=0/50, R1=0.190, R2=0.007]"
     ]
    },
    {
     "name": "stdout",
     "output_type": "stream",
     "text": [
      "💾 Сохранена лучшая модель с accuracy: 0.1615\n"
     ]
    },
    {
     "name": "stderr",
     "output_type": "stream",
     "text": [
      "Обучение:   8%|▊         | 15/200 [10:35<2:13:34, 43.32s/эпоха, TLoss=5.6510, VLoss=5.4880, VAcc=0.1630, BestVAcc=0.1630, Patience=0/50, R1=0.183, R2=0.005]"
     ]
    },
    {
     "name": "stdout",
     "output_type": "stream",
     "text": [
      "💾 Сохранена лучшая модель с accuracy: 0.1630\n"
     ]
    },
    {
     "name": "stderr",
     "output_type": "stream",
     "text": [
      "Обучение:   8%|▊         | 16/200 [11:19<2:13:23, 43.50s/эпоха, TLoss=5.6279, VLoss=5.4720, VAcc=0.1642, BestVAcc=0.1642, Patience=0/50, R1=0.186, R2=0.007]"
     ]
    },
    {
     "name": "stdout",
     "output_type": "stream",
     "text": [
      "💾 Сохранена лучшая модель с accuracy: 0.1642\n"
     ]
    },
    {
     "name": "stderr",
     "output_type": "stream",
     "text": [
      "Обучение:   8%|▊         | 17/200 [12:02<2:12:21, 43.40s/эпоха, TLoss=5.6074, VLoss=5.4519, VAcc=0.1669, BestVAcc=0.1669, Patience=0/50, R1=0.186, R2=0.005]"
     ]
    },
    {
     "name": "stdout",
     "output_type": "stream",
     "text": [
      "💾 Сохранена лучшая модель с accuracy: 0.1669\n"
     ]
    },
    {
     "name": "stderr",
     "output_type": "stream",
     "text": [
      "Обучение:   9%|▉         | 18/200 [12:45<2:11:25, 43.33s/эпоха, TLoss=5.5888, VLoss=5.4363, VAcc=0.1684, BestVAcc=0.1684, Patience=0/50, R1=0.205, R2=0.017]"
     ]
    },
    {
     "name": "stdout",
     "output_type": "stream",
     "text": [
      "💾 Сохранена лучшая модель с accuracy: 0.1684\n"
     ]
    },
    {
     "name": "stderr",
     "output_type": "stream",
     "text": [
      "Обучение:  10%|▉         | 19/200 [13:29<2:10:58, 43.42s/эпоха, TLoss=5.5675, VLoss=5.4187, VAcc=0.1699, BestVAcc=0.1699, Patience=0/50, R1=0.194, R2=0.007]"
     ]
    },
    {
     "name": "stdout",
     "output_type": "stream",
     "text": [
      "💾 Сохранена лучшая модель с accuracy: 0.1699\n"
     ]
    },
    {
     "name": "stderr",
     "output_type": "stream",
     "text": [
      "Обучение:  10%|█         | 20/200 [14:13<2:10:33, 43.52s/эпоха, TLoss=5.5495, VLoss=5.4022, VAcc=0.1726, BestVAcc=0.1726, Patience=0/50, R1=0.201, R2=0.012]"
     ]
    },
    {
     "name": "stdout",
     "output_type": "stream",
     "text": [
      "💾 Сохранена лучшая модель с accuracy: 0.1726\n"
     ]
    },
    {
     "name": "stderr",
     "output_type": "stream",
     "text": [
      "Обучение:  10%|█         | 21/200 [14:56<2:09:39, 43.46s/эпоха, TLoss=5.5283, VLoss=5.3835, VAcc=0.1749, BestVAcc=0.1749, Patience=0/50, R1=0.209, R2=0.015]"
     ]
    },
    {
     "name": "stdout",
     "output_type": "stream",
     "text": [
      "💾 Сохранена лучшая модель с accuracy: 0.1749\n"
     ]
    },
    {
     "name": "stderr",
     "output_type": "stream",
     "text": [
      "Обучение:  11%|█         | 22/200 [15:40<2:09:20, 43.60s/эпоха, TLoss=5.4933, VLoss=5.3417, VAcc=0.1821, BestVAcc=0.1821, Patience=0/50, R1=0.212, R2=0.045]"
     ]
    },
    {
     "name": "stdout",
     "output_type": "stream",
     "text": [
      "💾 Сохранена лучшая модель с accuracy: 0.1821\n"
     ]
    },
    {
     "name": "stderr",
     "output_type": "stream",
     "text": [
      "Обучение:  12%|█▏        | 23/200 [16:23<2:08:25, 43.53s/эпоха, TLoss=5.4507, VLoss=5.2921, VAcc=0.1921, BestVAcc=0.1921, Patience=0/50, R1=0.228, R2=0.059]"
     ]
    },
    {
     "name": "stdout",
     "output_type": "stream",
     "text": [
      "💾 Сохранена лучшая модель с accuracy: 0.1921\n"
     ]
    },
    {
     "name": "stderr",
     "output_type": "stream",
     "text": [
      "Обучение:  12%|█▏        | 24/200 [17:07<2:07:56, 43.62s/эпоха, TLoss=5.3790, VLoss=5.2097, VAcc=0.2099, BestVAcc=0.2099, Patience=0/50, R1=0.213, R2=0.068]"
     ]
    },
    {
     "name": "stdout",
     "output_type": "stream",
     "text": [
      "💾 Сохранена лучшая модель с accuracy: 0.2099\n"
     ]
    },
    {
     "name": "stderr",
     "output_type": "stream",
     "text": [
      "Обучение:  12%|█▎        | 25/200 [17:51<2:07:41, 43.78s/эпоха, TLoss=5.3099, VLoss=5.1612, VAcc=0.2179, BestVAcc=0.2179, Patience=0/50, R1=0.227, R2=0.078]"
     ]
    },
    {
     "name": "stdout",
     "output_type": "stream",
     "text": [
      "💾 Сохранена лучшая модель с accuracy: 0.2179\n"
     ]
    },
    {
     "name": "stderr",
     "output_type": "stream",
     "text": [
      "Обучение:  13%|█▎        | 26/200 [18:34<2:06:25, 43.60s/эпоха, TLoss=5.2584, VLoss=5.1134, VAcc=0.2257, BestVAcc=0.2257, Patience=0/50, R1=0.246, R2=0.099]"
     ]
    },
    {
     "name": "stdout",
     "output_type": "stream",
     "text": [
      "💾 Сохранена лучшая модель с accuracy: 0.2257\n"
     ]
    },
    {
     "name": "stderr",
     "output_type": "stream",
     "text": [
      "Обучение:  14%|█▎        | 27/200 [19:18<2:05:38, 43.58s/эпоха, TLoss=5.2169, VLoss=5.0841, VAcc=0.2305, BestVAcc=0.2305, Patience=0/50, R1=0.235, R2=0.103]"
     ]
    },
    {
     "name": "stdout",
     "output_type": "stream",
     "text": [
      "💾 Сохранена лучшая модель с accuracy: 0.2305\n"
     ]
    },
    {
     "name": "stderr",
     "output_type": "stream",
     "text": [
      "Обучение:  14%|█▍        | 28/200 [20:02<2:05:07, 43.65s/эпоха, TLoss=5.1831, VLoss=5.0559, VAcc=0.2357, BestVAcc=0.2357, Patience=0/50, R1=0.239, R2=0.109]"
     ]
    },
    {
     "name": "stdout",
     "output_type": "stream",
     "text": [
      "💾 Сохранена лучшая модель с accuracy: 0.2357\n"
     ]
    },
    {
     "name": "stderr",
     "output_type": "stream",
     "text": [
      "Обучение:  14%|█▍        | 29/200 [20:45<2:04:15, 43.60s/эпоха, TLoss=5.1528, VLoss=5.0391, VAcc=0.2372, BestVAcc=0.2372, Patience=0/50, R1=0.237, R2=0.103]"
     ]
    },
    {
     "name": "stdout",
     "output_type": "stream",
     "text": [
      "💾 Сохранена лучшая модель с accuracy: 0.2372\n"
     ]
    },
    {
     "name": "stderr",
     "output_type": "stream",
     "text": [
      "Обучение:  15%|█▌        | 30/200 [21:29<2:03:19, 43.53s/эпоха, TLoss=5.1273, VLoss=5.0197, VAcc=0.2403, BestVAcc=0.2403, Patience=0/50, R1=0.228, R2=0.109]"
     ]
    },
    {
     "name": "stdout",
     "output_type": "stream",
     "text": [
      "💾 Сохранена лучшая модель с accuracy: 0.2403\n"
     ]
    },
    {
     "name": "stderr",
     "output_type": "stream",
     "text": [
      "Обучение:  16%|█▌        | 31/200 [22:12<2:02:50, 43.61s/эпоха, TLoss=5.1039, VLoss=5.0087, VAcc=0.2418, BestVAcc=0.2418, Patience=0/50, R1=0.232, R2=0.113]"
     ]
    },
    {
     "name": "stdout",
     "output_type": "stream",
     "text": [
      "💾 Сохранена лучшая модель с accuracy: 0.2418\n"
     ]
    },
    {
     "name": "stderr",
     "output_type": "stream",
     "text": [
      "Обучение:  16%|█▌        | 32/200 [22:57<2:02:45, 43.84s/эпоха, TLoss=5.0830, VLoss=4.9975, VAcc=0.2437, BestVAcc=0.2437, Patience=0/50, R1=0.262, R2=0.138]"
     ]
    },
    {
     "name": "stdout",
     "output_type": "stream",
     "text": [
      "💾 Сохранена лучшая модель с accuracy: 0.2437\n"
     ]
    },
    {
     "name": "stderr",
     "output_type": "stream",
     "text": [
      "Обучение:  16%|█▋        | 33/200 [23:40<2:01:32, 43.67s/эпоха, TLoss=5.0649, VLoss=4.9880, VAcc=0.2445, BestVAcc=0.2445, Patience=0/50, R1=0.249, R2=0.126]"
     ]
    },
    {
     "name": "stdout",
     "output_type": "stream",
     "text": [
      "💾 Сохранена лучшая модель с accuracy: 0.2445\n"
     ]
    },
    {
     "name": "stderr",
     "output_type": "stream",
     "text": [
      "Обучение:  17%|█▋        | 34/200 [24:23<2:00:30, 43.56s/эпоха, TLoss=5.0465, VLoss=4.9808, VAcc=0.2453, BestVAcc=0.2453, Patience=0/50, R1=0.242, R2=0.133]"
     ]
    },
    {
     "name": "stdout",
     "output_type": "stream",
     "text": [
      "💾 Сохранена лучшая модель с accuracy: 0.2453\n"
     ]
    },
    {
     "name": "stderr",
     "output_type": "stream",
     "text": [
      "Обучение:  18%|█▊        | 35/200 [25:07<1:59:40, 43.52s/эпоха, TLoss=5.0329, VLoss=4.9744, VAcc=0.2468, BestVAcc=0.2468, Patience=0/50, R1=0.253, R2=0.128]"
     ]
    },
    {
     "name": "stdout",
     "output_type": "stream",
     "text": [
      "💾 Сохранена лучшая модель с accuracy: 0.2468\n"
     ]
    },
    {
     "name": "stderr",
     "output_type": "stream",
     "text": [
      "Обучение:  18%|█▊        | 36/200 [25:51<1:59:19, 43.66s/эпоха, TLoss=5.0176, VLoss=4.9662, VAcc=0.2482, BestVAcc=0.2482, Patience=0/50, R1=0.254, R2=0.140]"
     ]
    },
    {
     "name": "stdout",
     "output_type": "stream",
     "text": [
      "💾 Сохранена лучшая модель с accuracy: 0.2482\n"
     ]
    },
    {
     "name": "stderr",
     "output_type": "stream",
     "text": [
      "Обучение:  19%|█▉        | 38/200 [27:18<1:57:56, 43.68s/эпоха, TLoss=4.9912, VLoss=4.9576, VAcc=0.2488, BestVAcc=0.2488, Patience=0/50, R1=0.266, R2=0.148]"
     ]
    },
    {
     "name": "stdout",
     "output_type": "stream",
     "text": [
      "💾 Сохранена лучшая модель с accuracy: 0.2488\n"
     ]
    },
    {
     "name": "stderr",
     "output_type": "stream",
     "text": [
      "Обучение:  20%|█▉        | 39/200 [28:02<1:57:19, 43.72s/эпоха, TLoss=4.9792, VLoss=4.9514, VAcc=0.2494, BestVAcc=0.2494, Patience=0/50, R1=0.244, R2=0.126]"
     ]
    },
    {
     "name": "stdout",
     "output_type": "stream",
     "text": [
      "💾 Сохранена лучшая модель с accuracy: 0.2494\n"
     ]
    },
    {
     "name": "stderr",
     "output_type": "stream",
     "text": [
      "Обучение:  20%|██        | 40/200 [28:46<1:56:53, 43.83s/эпоха, TLoss=4.9680, VLoss=4.9498, VAcc=0.2495, BestVAcc=0.2495, Patience=0/50, R1=0.251, R2=0.131]"
     ]
    },
    {
     "name": "stdout",
     "output_type": "stream",
     "text": [
      "💾 Сохранена лучшая модель с accuracy: 0.2495\n"
     ]
    },
    {
     "name": "stderr",
     "output_type": "stream",
     "text": [
      "Обучение:  20%|██        | 41/200 [29:30<1:55:52, 43.73s/эпоха, TLoss=4.9565, VLoss=4.9474, VAcc=0.2502, BestVAcc=0.2502, Patience=0/50, R1=0.243, R2=0.127]"
     ]
    },
    {
     "name": "stdout",
     "output_type": "stream",
     "text": [
      "💾 Сохранена лучшая модель с accuracy: 0.2502\n"
     ]
    },
    {
     "name": "stderr",
     "output_type": "stream",
     "text": [
      "Обучение:  21%|██        | 42/200 [30:13<1:55:01, 43.68s/эпоха, TLoss=4.9465, VLoss=4.9457, VAcc=0.2504, BestVAcc=0.2504, Patience=0/50, R1=0.257, R2=0.136]"
     ]
    },
    {
     "name": "stdout",
     "output_type": "stream",
     "text": [
      "💾 Сохранена лучшая модель с accuracy: 0.2504\n"
     ]
    },
    {
     "name": "stderr",
     "output_type": "stream",
     "text": [
      "Обучение:  22%|██▏       | 44/200 [31:41<1:53:45, 43.75s/эпоха, TLoss=4.9286, VLoss=4.9410, VAcc=0.2509, BestVAcc=0.2509, Patience=0/50, R1=0.271, R2=0.144]"
     ]
    },
    {
     "name": "stdout",
     "output_type": "stream",
     "text": [
      "💾 Сохранена лучшая модель с accuracy: 0.2509\n"
     ]
    },
    {
     "name": "stderr",
     "output_type": "stream",
     "text": [
      "Обучение:  22%|██▎       | 45/200 [32:24<1:52:59, 43.74s/эпоха, TLoss=4.9187, VLoss=4.9377, VAcc=0.2517, BestVAcc=0.2517, Patience=0/50, R1=0.261, R2=0.139]"
     ]
    },
    {
     "name": "stdout",
     "output_type": "stream",
     "text": [
      "💾 Сохранена лучшая модель с accuracy: 0.2517\n"
     ]
    },
    {
     "name": "stderr",
     "output_type": "stream",
     "text": [
      "Обучение:  24%|██▎       | 47/200 [33:53<1:52:22, 44.07s/эпоха, TLoss=4.9024, VLoss=4.9357, VAcc=0.2521, BestVAcc=0.2521, Patience=0/50, R1=0.255, R2=0.138]"
     ]
    },
    {
     "name": "stdout",
     "output_type": "stream",
     "text": [
      "💾 Сохранена лучшая модель с accuracy: 0.2521\n"
     ]
    },
    {
     "name": "stderr",
     "output_type": "stream",
     "text": [
      "Обучение:  24%|██▍       | 48/200 [34:37<1:52:10, 44.28s/эпоха, TLoss=4.8945, VLoss=4.9342, VAcc=0.2529, BestVAcc=0.2529, Patience=0/50, R1=0.257, R2=0.129]"
     ]
    },
    {
     "name": "stdout",
     "output_type": "stream",
     "text": [
      "💾 Сохранена лучшая модель с accuracy: 0.2529\n"
     ]
    },
    {
     "name": "stderr",
     "output_type": "stream",
     "text": [
      "Обучение:  26%|██▌       | 52/200 [37:37<1:50:17, 44.71s/эпоха, TLoss=4.8671, VLoss=4.9317, VAcc=0.2534, BestVAcc=0.2534, Patience=0/50, R1=0.275, R2=0.155]"
     ]
    },
    {
     "name": "stdout",
     "output_type": "stream",
     "text": [
      "💾 Сохранена лучшая модель с accuracy: 0.2534\n"
     ]
    },
    {
     "name": "stderr",
     "output_type": "stream",
     "text": [
      "Обучение:  26%|██▋       | 53/200 [38:21<1:49:24, 44.66s/эпоха, TLoss=4.8607, VLoss=4.9312, VAcc=0.2534, BestVAcc=0.2534, Patience=0/50, R1=0.269, R2=0.149]"
     ]
    },
    {
     "name": "stdout",
     "output_type": "stream",
     "text": [
      "💾 Сохранена лучшая модель с accuracy: 0.2534\n"
     ]
    },
    {
     "name": "stderr",
     "output_type": "stream",
     "text": [
      "Обучение:  28%|██▊       | 55/200 [39:50<1:47:36, 44.53s/эпоха, TLoss=4.8470, VLoss=4.9331, VAcc=0.2535, BestVAcc=0.2535, Patience=0/50, R1=0.274, R2=0.144]"
     ]
    },
    {
     "name": "stdout",
     "output_type": "stream",
     "text": [
      "💾 Сохранена лучшая модель с accuracy: 0.2535\n"
     ]
    },
    {
     "name": "stderr",
     "output_type": "stream",
     "text": [
      "Обучение:  28%|██▊       | 56/200 [40:35<1:47:10, 44.65s/эпоха, TLoss=4.8428, VLoss=4.9329, VAcc=0.2542, BestVAcc=0.2542, Patience=0/50, R1=0.277, R2=0.146]"
     ]
    },
    {
     "name": "stdout",
     "output_type": "stream",
     "text": [
      "💾 Сохранена лучшая модель с accuracy: 0.2542\n"
     ]
    },
    {
     "name": "stderr",
     "output_type": "stream",
     "text": [
      "Обучение:  30%|██▉       | 59/200 [42:49<1:44:59, 44.68s/эпоха, TLoss=4.8249, VLoss=4.9319, VAcc=0.2546, BestVAcc=0.2546, Patience=0/50, R1=0.251, R2=0.127]"
     ]
    },
    {
     "name": "stdout",
     "output_type": "stream",
     "text": [
      "💾 Сохранена лучшая модель с accuracy: 0.2546\n"
     ]
    },
    {
     "name": "stderr",
     "output_type": "stream",
     "text": [
      "Обучение:  31%|███       | 62/200 [45:03<1:42:27, 44.55s/эпоха, TLoss=4.8091, VLoss=4.9392, VAcc=0.2550, BestVAcc=0.2550, Patience=0/50, R1=0.260, R2=0.141]"
     ]
    },
    {
     "name": "stdout",
     "output_type": "stream",
     "text": [
      "💾 Сохранена лучшая модель с accuracy: 0.2550\n"
     ]
    },
    {
     "name": "stderr",
     "output_type": "stream",
     "text": [
      "Обучение:  33%|███▎      | 66/200 [48:02<1:39:40, 44.63s/эпоха, TLoss=4.7899, VLoss=4.9400, VAcc=0.2555, BestVAcc=0.2555, Patience=0/50, R1=0.259, R2=0.134]"
     ]
    },
    {
     "name": "stdout",
     "output_type": "stream",
     "text": [
      "💾 Сохранена лучшая модель с accuracy: 0.2555\n"
     ]
    },
    {
     "name": "stderr",
     "output_type": "stream",
     "text": [
      "Обучение:  36%|███▋      | 73/200 [53:13<1:34:16, 44.54s/эпоха, TLoss=4.7614, VLoss=4.9414, VAcc=0.2559, BestVAcc=0.2559, Patience=0/50, R1=0.259, R2=0.137]"
     ]
    },
    {
     "name": "stdout",
     "output_type": "stream",
     "text": [
      "💾 Сохранена лучшая модель с accuracy: 0.2559\n"
     ]
    },
    {
     "name": "stderr",
     "output_type": "stream",
     "text": [
      "Обучение:  38%|███▊      | 75/200 [54:42<1:33:04, 44.67s/эпоха, TLoss=4.7531, VLoss=4.9444, VAcc=0.2561, BestVAcc=0.2561, Patience=0/50, R1=0.254, R2=0.139]"
     ]
    },
    {
     "name": "stdout",
     "output_type": "stream",
     "text": [
      "💾 Сохранена лучшая модель с accuracy: 0.2561\n"
     ]
    },
    {
     "name": "stderr",
     "output_type": "stream",
     "text": [
      "Обучение:  40%|███▉      | 79/200 [57:39<1:29:26, 44.35s/эпоха, TLoss=4.7387, VLoss=4.9466, VAcc=0.2566, BestVAcc=0.2566, Patience=0/50, R1=0.256, R2=0.144]"
     ]
    },
    {
     "name": "stdout",
     "output_type": "stream",
     "text": [
      "💾 Сохранена лучшая модель с accuracy: 0.2566\n"
     ]
    },
    {
     "name": "stderr",
     "output_type": "stream",
     "text": [
      "Обучение:  56%|█████▌    | 112/200 [1:22:01<1:05:03, 44.36s/эпоха, TLoss=4.6387, VLoss=5.0014, VAcc=0.2568, BestVAcc=0.2568, Patience=0/50, R1=0.245, R2=0.139] "
     ]
    },
    {
     "name": "stdout",
     "output_type": "stream",
     "text": [
      "💾 Сохранена лучшая модель с accuracy: 0.2568\n"
     ]
    },
    {
     "name": "stderr",
     "output_type": "stream",
     "text": [
      "Обучение:  80%|████████  | 161/200 [1:58:59<28:49, 44.35s/эпоха, TLoss=4.5342, VLoss=5.0827, VAcc=0.2554, BestVAcc=0.2568, Patience=50/50, R1=0.267, R2=0.155] "
     ]
    },
    {
     "name": "stdout",
     "output_type": "stream",
     "text": [
      "🛑 Ранняя остановка на эпохе 162\n"
     ]
    },
    {
     "name": "stderr",
     "output_type": "stream",
     "text": [
      "\n"
     ]
    }
   ],
   "source": [
    "# Обучение (основной цикл)\n",
    "train_losses, val_accuracies, val_losses, val_rouge_metrics = [], [], [], []\n",
    "best_val_acc, best_epoch, patience_counter = 0, 0, 0\n",
    "patience = 50\n",
    "\n",
    "print(\"🎯 Начало обучения...\")\n",
    "num_epoch=config['num_epoch']\n",
    "epoch_loop = tqdm(range(num_epoch), desc=\"Обучение\", unit=\"эпоха\")\n",
    "\n",
    "for epoch in epoch_loop:\n",
    "    train_loss = train_epoch(model, train_loader, optimizer, criterion, device)\n",
    "    train_losses.append(train_loss)\n",
    "    # vevaluate(model, loader, criterion, device, tokenizer, compute_rouge=False, num_rouge_examples=50)\n",
    "    val_acc, val_loss, val_rouge = vevaluate3(\n",
    "        model=model, \n",
    "        loader=val_loader, \n",
    "        criterion=criterion, \n",
    "        device=device, \n",
    "        tokenizer=tokenizer, \n",
    "        compute_rouge = config['compute_rouge'], \n",
    "        num_rouge_examples=50\n",
    "    )\n",
    "        \n",
    "            \n",
    "    val_accuracies.append(val_acc)\n",
    "    val_losses.append(val_loss)\n",
    "    val_rouge_metrics.append(val_rouge)\n",
    "    \n",
    "    if val_acc > best_val_acc:\n",
    "        best_val_acc = val_acc\n",
    "        best_epoch = epoch + 1\n",
    "        patience_counter = 0\n",
    "        \n",
    "        best_model_path = config['model_dir'] / 'best_model.pth'\n",
    "        save_model(model, optimizer, epoch, val_acc, val_loss, best_model_path, \n",
    "                    tokenizer, config)\n",
    "        print(f\"💾 Сохранена лучшая модель с accuracy: {val_acc:.4f}\")\n",
    "    else:\n",
    "        patience_counter += 1\n",
    "    # Обновляем прогресс-бар с ROUGE метриками\n",
    "    rouge_info = \"\"\n",
    "    if val_rouge and 'rouge1' in val_rouge:\n",
    "        rouge_info = f\" | R1: {val_rouge['rouge1']:.3f}\"\n",
    "        \n",
    "    # epoch_loop.set_postfix({\n",
    "    #     \"Loss\": f\"{train_loss:.4f}\",\n",
    "    #     \"Val Acc\": f\"{val_acc:.4f}\",\n",
    "    #     \"Best Acc\": f\"{best_val_acc:.4f}\",\n",
    "    #     \"Patience\": f\"{patience_counter}/{patience}\"\n",
    "    # })\n",
    "    \n",
    "    postfix_data = {\n",
    "    \"TLoss\": f\"{train_loss:.4f}\",\n",
    "    \"VLoss\": f\"{val_loss:.4f}\",    \n",
    "    \"VAcc\": f\"{val_acc:.4f}\",\n",
    "    \"BestVAcc\": f\"{best_val_acc:.4f}\",\n",
    "    \"Patience\": f\"{patience_counter}/{patience}\"\n",
    "    }\n",
    "    # Добавляем ROUGE метрики если они есть\n",
    "    if val_rouge and 'rouge1' in val_rouge:\n",
    "        postfix_data[\"R1\"] = f\"{val_rouge['rouge1']:.3f}\"\n",
    "        postfix_data[\"R2\"] = f\"{val_rouge['rouge2']:.3f}\"\n",
    "\n",
    "    epoch_loop.set_postfix(postfix_data)\n",
    "    \n",
    "    if patience_counter >= patience:\n",
    "        print(f\"🛑 Ранняя остановка на эпохе {epoch + 1}\")\n",
    "        break"
   ]
  },
  {
   "cell_type": "code",
   "execution_count": 9,
   "id": "0c97c8e2",
   "metadata": {},
   "outputs": [
    {
     "name": "stdout",
     "output_type": "stream",
     "text": [
      "\n",
      "============================================================\n",
      "📈 АНАЛИЗ ROUGE МЕТРИК ПО ЭПОХАМ\n",
      "============================================================\n",
      "Эпоха 1: Acc=0.0607 | ROUGE-1=0.0888 | ROUGE-2=0.0000 | ROUGE-L=0.0862\n",
      "Эпоха 2: Acc=0.1019 | ROUGE-1=0.1097 | ROUGE-2=0.0000 | ROUGE-L=0.1001\n",
      "Эпоха 3: Acc=0.1174 | ROUGE-1=0.1158 | ROUGE-2=0.0000 | ROUGE-L=0.1091\n",
      "Эпоха 4: Acc=0.1291 | ROUGE-1=0.1421 | ROUGE-2=0.0047 | ROUGE-L=0.1402\n",
      "Эпоха 5: Acc=0.1370 | ROUGE-1=0.1480 | ROUGE-2=0.0047 | ROUGE-L=0.1416\n",
      "Эпоха 6: Acc=0.1411 | ROUGE-1=0.1627 | ROUGE-2=0.0114 | ROUGE-L=0.1518\n",
      "Эпоха 7: Acc=0.1435 | ROUGE-1=0.1591 | ROUGE-2=0.0047 | ROUGE-L=0.1517\n",
      "Эпоха 8: Acc=0.1479 | ROUGE-1=0.1496 | ROUGE-2=0.0047 | ROUGE-L=0.1416\n",
      "Эпоха 9: Acc=0.1504 | ROUGE-1=0.1652 | ROUGE-2=0.0072 | ROUGE-L=0.1574\n",
      "Эпоха 10: Acc=0.1531 | ROUGE-1=0.1752 | ROUGE-2=0.0072 | ROUGE-L=0.1670\n",
      "Эпоха 11: Acc=0.1558 | ROUGE-1=0.1712 | ROUGE-2=0.0071 | ROUGE-L=0.1620\n",
      "Эпоха 12: Acc=0.1578 | ROUGE-1=0.1873 | ROUGE-2=0.0071 | ROUGE-L=0.1805\n",
      "Эпоха 13: Acc=0.1589 | ROUGE-1=0.1838 | ROUGE-2=0.0071 | ROUGE-L=0.1775\n",
      "Эпоха 14: Acc=0.1615 | ROUGE-1=0.1896 | ROUGE-2=0.0071 | ROUGE-L=0.1839\n",
      "Эпоха 15: Acc=0.1630 | ROUGE-1=0.1828 | ROUGE-2=0.0047 | ROUGE-L=0.1794\n",
      "Эпоха 16: Acc=0.1642 | ROUGE-1=0.1858 | ROUGE-2=0.0072 | ROUGE-L=0.1835\n",
      "Эпоха 17: Acc=0.1669 | ROUGE-1=0.1861 | ROUGE-2=0.0047 | ROUGE-L=0.1827\n",
      "Эпоха 18: Acc=0.1684 | ROUGE-1=0.2046 | ROUGE-2=0.0174 | ROUGE-L=0.1985\n",
      "Эпоха 19: Acc=0.1699 | ROUGE-1=0.1942 | ROUGE-2=0.0071 | ROUGE-L=0.1899\n",
      "Эпоха 20: Acc=0.1726 | ROUGE-1=0.2013 | ROUGE-2=0.0121 | ROUGE-L=0.1961\n",
      "Эпоха 21: Acc=0.1749 | ROUGE-1=0.2088 | ROUGE-2=0.0150 | ROUGE-L=0.2024\n",
      "Эпоха 22: Acc=0.1821 | ROUGE-1=0.2119 | ROUGE-2=0.0454 | ROUGE-L=0.2115\n",
      "Эпоха 23: Acc=0.1921 | ROUGE-1=0.2279 | ROUGE-2=0.0587 | ROUGE-L=0.2281\n",
      "Эпоха 24: Acc=0.2099 | ROUGE-1=0.2129 | ROUGE-2=0.0677 | ROUGE-L=0.2060\n",
      "Эпоха 25: Acc=0.2179 | ROUGE-1=0.2274 | ROUGE-2=0.0778 | ROUGE-L=0.2139\n",
      "Эпоха 26: Acc=0.2257 | ROUGE-1=0.2464 | ROUGE-2=0.0992 | ROUGE-L=0.2434\n",
      "Эпоха 27: Acc=0.2305 | ROUGE-1=0.2354 | ROUGE-2=0.1032 | ROUGE-L=0.2273\n",
      "Эпоха 28: Acc=0.2357 | ROUGE-1=0.2391 | ROUGE-2=0.1090 | ROUGE-L=0.2349\n",
      "Эпоха 29: Acc=0.2372 | ROUGE-1=0.2374 | ROUGE-2=0.1027 | ROUGE-L=0.2363\n",
      "Эпоха 30: Acc=0.2403 | ROUGE-1=0.2276 | ROUGE-2=0.1090 | ROUGE-L=0.2280\n",
      "Эпоха 31: Acc=0.2418 | ROUGE-1=0.2316 | ROUGE-2=0.1133 | ROUGE-L=0.2326\n",
      "Эпоха 32: Acc=0.2437 | ROUGE-1=0.2619 | ROUGE-2=0.1379 | ROUGE-L=0.2592\n",
      "Эпоха 33: Acc=0.2445 | ROUGE-1=0.2489 | ROUGE-2=0.1257 | ROUGE-L=0.2486\n",
      "Эпоха 34: Acc=0.2453 | ROUGE-1=0.2418 | ROUGE-2=0.1332 | ROUGE-L=0.2420\n",
      "Эпоха 35: Acc=0.2468 | ROUGE-1=0.2533 | ROUGE-2=0.1284 | ROUGE-L=0.2499\n",
      "Эпоха 36: Acc=0.2482 | ROUGE-1=0.2539 | ROUGE-2=0.1398 | ROUGE-L=0.2540\n",
      "Эпоха 37: Acc=0.2482 | ROUGE-1=0.2561 | ROUGE-2=0.1365 | ROUGE-L=0.2583\n",
      "Эпоха 38: Acc=0.2488 | ROUGE-1=0.2655 | ROUGE-2=0.1483 | ROUGE-L=0.2630\n",
      "Эпоха 39: Acc=0.2494 | ROUGE-1=0.2436 | ROUGE-2=0.1260 | ROUGE-L=0.2451\n",
      "Эпоха 40: Acc=0.2495 | ROUGE-1=0.2511 | ROUGE-2=0.1309 | ROUGE-L=0.2527\n",
      "Эпоха 41: Acc=0.2502 | ROUGE-1=0.2428 | ROUGE-2=0.1273 | ROUGE-L=0.2439\n",
      "Эпоха 42: Acc=0.2504 | ROUGE-1=0.2569 | ROUGE-2=0.1362 | ROUGE-L=0.2595\n",
      "Эпоха 43: Acc=0.2500 | ROUGE-1=0.2581 | ROUGE-2=0.1338 | ROUGE-L=0.2579\n",
      "Эпоха 44: Acc=0.2509 | ROUGE-1=0.2707 | ROUGE-2=0.1437 | ROUGE-L=0.2682\n",
      "Эпоха 45: Acc=0.2517 | ROUGE-1=0.2609 | ROUGE-2=0.1390 | ROUGE-L=0.2638\n",
      "Эпоха 46: Acc=0.2516 | ROUGE-1=0.2631 | ROUGE-2=0.1392 | ROUGE-L=0.2634\n",
      "Эпоха 47: Acc=0.2521 | ROUGE-1=0.2551 | ROUGE-2=0.1379 | ROUGE-L=0.2558\n",
      "Эпоха 48: Acc=0.2529 | ROUGE-1=0.2574 | ROUGE-2=0.1289 | ROUGE-L=0.2537\n",
      "Эпоха 49: Acc=0.2516 | ROUGE-1=0.2604 | ROUGE-2=0.1416 | ROUGE-L=0.2635\n",
      "Эпоха 50: Acc=0.2523 | ROUGE-1=0.2570 | ROUGE-2=0.1351 | ROUGE-L=0.2594\n",
      "Эпоха 51: Acc=0.2527 | ROUGE-1=0.2721 | ROUGE-2=0.1485 | ROUGE-L=0.2713\n",
      "Эпоха 52: Acc=0.2534 | ROUGE-1=0.2747 | ROUGE-2=0.1554 | ROUGE-L=0.2730\n",
      "Эпоха 53: Acc=0.2534 | ROUGE-1=0.2693 | ROUGE-2=0.1487 | ROUGE-L=0.2673\n",
      "Эпоха 54: Acc=0.2534 | ROUGE-1=0.2693 | ROUGE-2=0.1460 | ROUGE-L=0.2686\n",
      "Эпоха 55: Acc=0.2535 | ROUGE-1=0.2737 | ROUGE-2=0.1437 | ROUGE-L=0.2717\n",
      "Эпоха 56: Acc=0.2542 | ROUGE-1=0.2765 | ROUGE-2=0.1457 | ROUGE-L=0.2752\n",
      "Эпоха 57: Acc=0.2536 | ROUGE-1=0.2616 | ROUGE-2=0.1364 | ROUGE-L=0.2611\n",
      "Эпоха 58: Acc=0.2542 | ROUGE-1=0.2650 | ROUGE-2=0.1342 | ROUGE-L=0.2612\n",
      "Эпоха 59: Acc=0.2546 | ROUGE-1=0.2511 | ROUGE-2=0.1273 | ROUGE-L=0.2512\n",
      "Эпоха 60: Acc=0.2541 | ROUGE-1=0.2614 | ROUGE-2=0.1404 | ROUGE-L=0.2588\n",
      "Эпоха 61: Acc=0.2545 | ROUGE-1=0.2575 | ROUGE-2=0.1392 | ROUGE-L=0.2584\n",
      "Эпоха 62: Acc=0.2550 | ROUGE-1=0.2602 | ROUGE-2=0.1408 | ROUGE-L=0.2627\n",
      "Эпоха 63: Acc=0.2545 | ROUGE-1=0.2656 | ROUGE-2=0.1392 | ROUGE-L=0.2628\n",
      "Эпоха 64: Acc=0.2545 | ROUGE-1=0.2669 | ROUGE-2=0.1494 | ROUGE-L=0.2632\n",
      "Эпоха 65: Acc=0.2545 | ROUGE-1=0.2596 | ROUGE-2=0.1422 | ROUGE-L=0.2600\n",
      "Эпоха 66: Acc=0.2555 | ROUGE-1=0.2585 | ROUGE-2=0.1341 | ROUGE-L=0.2538\n",
      "Эпоха 67: Acc=0.2550 | ROUGE-1=0.2518 | ROUGE-2=0.1370 | ROUGE-L=0.2534\n",
      "Эпоха 68: Acc=0.2551 | ROUGE-1=0.2642 | ROUGE-2=0.1460 | ROUGE-L=0.2621\n",
      "Эпоха 69: Acc=0.2553 | ROUGE-1=0.2641 | ROUGE-2=0.1465 | ROUGE-L=0.2649\n",
      "Эпоха 70: Acc=0.2554 | ROUGE-1=0.2602 | ROUGE-2=0.1367 | ROUGE-L=0.2585\n",
      "Эпоха 71: Acc=0.2549 | ROUGE-1=0.2709 | ROUGE-2=0.1477 | ROUGE-L=0.2679\n",
      "Эпоха 72: Acc=0.2552 | ROUGE-1=0.2669 | ROUGE-2=0.1453 | ROUGE-L=0.2660\n",
      "Эпоха 73: Acc=0.2559 | ROUGE-1=0.2585 | ROUGE-2=0.1365 | ROUGE-L=0.2557\n",
      "Эпоха 74: Acc=0.2552 | ROUGE-1=0.2597 | ROUGE-2=0.1392 | ROUGE-L=0.2583\n",
      "Эпоха 75: Acc=0.2561 | ROUGE-1=0.2543 | ROUGE-2=0.1388 | ROUGE-L=0.2562\n",
      "Эпоха 76: Acc=0.2555 | ROUGE-1=0.2655 | ROUGE-2=0.1392 | ROUGE-L=0.2609\n",
      "Эпоха 77: Acc=0.2560 | ROUGE-1=0.2552 | ROUGE-2=0.1422 | ROUGE-L=0.2582\n",
      "Эпоха 78: Acc=0.2554 | ROUGE-1=0.2619 | ROUGE-2=0.1341 | ROUGE-L=0.2587\n",
      "Эпоха 79: Acc=0.2566 | ROUGE-1=0.2559 | ROUGE-2=0.1436 | ROUGE-L=0.2580\n",
      "Эпоха 80: Acc=0.2559 | ROUGE-1=0.2602 | ROUGE-2=0.1341 | ROUGE-L=0.2574\n",
      "Эпоха 81: Acc=0.2553 | ROUGE-1=0.2622 | ROUGE-2=0.1438 | ROUGE-L=0.2556\n",
      "Эпоха 82: Acc=0.2555 | ROUGE-1=0.2647 | ROUGE-2=0.1432 | ROUGE-L=0.2604\n",
      "Эпоха 83: Acc=0.2559 | ROUGE-1=0.2480 | ROUGE-2=0.1341 | ROUGE-L=0.2499\n",
      "Эпоха 84: Acc=0.2558 | ROUGE-1=0.2596 | ROUGE-2=0.1341 | ROUGE-L=0.2550\n",
      "Эпоха 85: Acc=0.2558 | ROUGE-1=0.2533 | ROUGE-2=0.1341 | ROUGE-L=0.2538\n",
      "Эпоха 86: Acc=0.2559 | ROUGE-1=0.2588 | ROUGE-2=0.1341 | ROUGE-L=0.2548\n",
      "Эпоха 87: Acc=0.2555 | ROUGE-1=0.2522 | ROUGE-2=0.1290 | ROUGE-L=0.2499\n",
      "Эпоха 88: Acc=0.2565 | ROUGE-1=0.2603 | ROUGE-2=0.1370 | ROUGE-L=0.2564\n",
      "Эпоха 89: Acc=0.2556 | ROUGE-1=0.2772 | ROUGE-2=0.1392 | ROUGE-L=0.2689\n",
      "Эпоха 90: Acc=0.2562 | ROUGE-1=0.2615 | ROUGE-2=0.1447 | ROUGE-L=0.2638\n",
      "Эпоха 91: Acc=0.2565 | ROUGE-1=0.2578 | ROUGE-2=0.1341 | ROUGE-L=0.2584\n",
      "Эпоха 92: Acc=0.2558 | ROUGE-1=0.2685 | ROUGE-2=0.1397 | ROUGE-L=0.2587\n",
      "Эпоха 93: Acc=0.2561 | ROUGE-1=0.2542 | ROUGE-2=0.1365 | ROUGE-L=0.2545\n",
      "Эпоха 94: Acc=0.2561 | ROUGE-1=0.2588 | ROUGE-2=0.1370 | ROUGE-L=0.2542\n",
      "Эпоха 95: Acc=0.2558 | ROUGE-1=0.2548 | ROUGE-2=0.1392 | ROUGE-L=0.2556\n",
      "Эпоха 96: Acc=0.2559 | ROUGE-1=0.2476 | ROUGE-2=0.1414 | ROUGE-L=0.2461\n",
      "Эпоха 97: Acc=0.2563 | ROUGE-1=0.2587 | ROUGE-2=0.1447 | ROUGE-L=0.2535\n",
      "Эпоха 98: Acc=0.2561 | ROUGE-1=0.2584 | ROUGE-2=0.1447 | ROUGE-L=0.2534\n",
      "Эпоха 99: Acc=0.2558 | ROUGE-1=0.2481 | ROUGE-2=0.1289 | ROUGE-L=0.2439\n",
      "Эпоха 100: Acc=0.2554 | ROUGE-1=0.2525 | ROUGE-2=0.1341 | ROUGE-L=0.2483\n",
      "Эпоха 101: Acc=0.2554 | ROUGE-1=0.2658 | ROUGE-2=0.1449 | ROUGE-L=0.2574\n",
      "Эпоха 102: Acc=0.2552 | ROUGE-1=0.2550 | ROUGE-2=0.1497 | ROUGE-L=0.2545\n",
      "Эпоха 103: Acc=0.2559 | ROUGE-1=0.2611 | ROUGE-2=0.1434 | ROUGE-L=0.2590\n",
      "Эпоха 104: Acc=0.2565 | ROUGE-1=0.2727 | ROUGE-2=0.1543 | ROUGE-L=0.2700\n",
      "Эпоха 105: Acc=0.2556 | ROUGE-1=0.2561 | ROUGE-2=0.1404 | ROUGE-L=0.2515\n",
      "Эпоха 106: Acc=0.2560 | ROUGE-1=0.2556 | ROUGE-2=0.1507 | ROUGE-L=0.2565\n",
      "Эпоха 107: Acc=0.2560 | ROUGE-1=0.2652 | ROUGE-2=0.1507 | ROUGE-L=0.2625\n",
      "Эпоха 108: Acc=0.2560 | ROUGE-1=0.2638 | ROUGE-2=0.1514 | ROUGE-L=0.2599\n",
      "Эпоха 109: Acc=0.2553 | ROUGE-1=0.2755 | ROUGE-2=0.1628 | ROUGE-L=0.2717\n",
      "Эпоха 110: Acc=0.2551 | ROUGE-1=0.2743 | ROUGE-2=0.1567 | ROUGE-L=0.2667\n",
      "Эпоха 111: Acc=0.2557 | ROUGE-1=0.2669 | ROUGE-2=0.1497 | ROUGE-L=0.2629\n",
      "Эпоха 112: Acc=0.2568 | ROUGE-1=0.2455 | ROUGE-2=0.1392 | ROUGE-L=0.2480\n",
      "Эпоха 113: Acc=0.2567 | ROUGE-1=0.2651 | ROUGE-2=0.1611 | ROUGE-L=0.2640\n",
      "Эпоха 114: Acc=0.2557 | ROUGE-1=0.2659 | ROUGE-2=0.1613 | ROUGE-L=0.2681\n",
      "Эпоха 115: Acc=0.2559 | ROUGE-1=0.2652 | ROUGE-2=0.1507 | ROUGE-L=0.2582\n",
      "Эпоха 116: Acc=0.2558 | ROUGE-1=0.2605 | ROUGE-2=0.1537 | ROUGE-L=0.2579\n",
      "Эпоха 117: Acc=0.2561 | ROUGE-1=0.2657 | ROUGE-2=0.1554 | ROUGE-L=0.2653\n",
      "Эпоха 118: Acc=0.2560 | ROUGE-1=0.2574 | ROUGE-2=0.1554 | ROUGE-L=0.2563\n",
      "Эпоха 119: Acc=0.2560 | ROUGE-1=0.2624 | ROUGE-2=0.1484 | ROUGE-L=0.2580\n",
      "Эпоха 120: Acc=0.2558 | ROUGE-1=0.2688 | ROUGE-2=0.1662 | ROUGE-L=0.2675\n",
      "Эпоха 121: Acc=0.2555 | ROUGE-1=0.2685 | ROUGE-2=0.1564 | ROUGE-L=0.2648\n",
      "Эпоха 122: Acc=0.2562 | ROUGE-1=0.2626 | ROUGE-2=0.1477 | ROUGE-L=0.2611\n",
      "Эпоха 123: Acc=0.2559 | ROUGE-1=0.2661 | ROUGE-2=0.1477 | ROUGE-L=0.2646\n",
      "Эпоха 124: Acc=0.2563 | ROUGE-1=0.2702 | ROUGE-2=0.1567 | ROUGE-L=0.2689\n",
      "Эпоха 125: Acc=0.2559 | ROUGE-1=0.2510 | ROUGE-2=0.1507 | ROUGE-L=0.2472\n",
      "Эпоха 126: Acc=0.2560 | ROUGE-1=0.2767 | ROUGE-2=0.1507 | ROUGE-L=0.2681\n",
      "Эпоха 127: Acc=0.2554 | ROUGE-1=0.2649 | ROUGE-2=0.1603 | ROUGE-L=0.2616\n",
      "Эпоха 128: Acc=0.2557 | ROUGE-1=0.2769 | ROUGE-2=0.1619 | ROUGE-L=0.2692\n",
      "Эпоха 129: Acc=0.2555 | ROUGE-1=0.2630 | ROUGE-2=0.1554 | ROUGE-L=0.2600\n",
      "Эпоха 130: Acc=0.2558 | ROUGE-1=0.2593 | ROUGE-2=0.1554 | ROUGE-L=0.2586\n",
      "Эпоха 131: Acc=0.2557 | ROUGE-1=0.2656 | ROUGE-2=0.1619 | ROUGE-L=0.2612\n",
      "Эпоха 132: Acc=0.2555 | ROUGE-1=0.2742 | ROUGE-2=0.1554 | ROUGE-L=0.2659\n",
      "Эпоха 133: Acc=0.2550 | ROUGE-1=0.2680 | ROUGE-2=0.1638 | ROUGE-L=0.2698\n",
      "Эпоха 134: Acc=0.2552 | ROUGE-1=0.2716 | ROUGE-2=0.1554 | ROUGE-L=0.2670\n",
      "Эпоха 135: Acc=0.2562 | ROUGE-1=0.2649 | ROUGE-2=0.1554 | ROUGE-L=0.2628\n",
      "Эпоха 136: Acc=0.2559 | ROUGE-1=0.2694 | ROUGE-2=0.1554 | ROUGE-L=0.2656\n",
      "Эпоха 137: Acc=0.2560 | ROUGE-1=0.2730 | ROUGE-2=0.1619 | ROUGE-L=0.2709\n",
      "Эпоха 138: Acc=0.2550 | ROUGE-1=0.2613 | ROUGE-2=0.1549 | ROUGE-L=0.2587\n",
      "Эпоха 139: Acc=0.2549 | ROUGE-1=0.2683 | ROUGE-2=0.1585 | ROUGE-L=0.2671\n",
      "Эпоха 140: Acc=0.2555 | ROUGE-1=0.2685 | ROUGE-2=0.1554 | ROUGE-L=0.2661\n",
      "Эпоха 141: Acc=0.2554 | ROUGE-1=0.2751 | ROUGE-2=0.1638 | ROUGE-L=0.2699\n",
      "Эпоха 142: Acc=0.2558 | ROUGE-1=0.2682 | ROUGE-2=0.1603 | ROUGE-L=0.2649\n",
      "Эпоха 143: Acc=0.2556 | ROUGE-1=0.2629 | ROUGE-2=0.1667 | ROUGE-L=0.2619\n",
      "Эпоха 144: Acc=0.2557 | ROUGE-1=0.2730 | ROUGE-2=0.1619 | ROUGE-L=0.2685\n",
      "Эпоха 145: Acc=0.2556 | ROUGE-1=0.2774 | ROUGE-2=0.1691 | ROUGE-L=0.2731\n",
      "Эпоха 146: Acc=0.2548 | ROUGE-1=0.2634 | ROUGE-2=0.1554 | ROUGE-L=0.2593\n",
      "Эпоха 147: Acc=0.2552 | ROUGE-1=0.2549 | ROUGE-2=0.1494 | ROUGE-L=0.2526\n",
      "Эпоха 148: Acc=0.2553 | ROUGE-1=0.2679 | ROUGE-2=0.1603 | ROUGE-L=0.2611\n",
      "Эпоха 149: Acc=0.2553 | ROUGE-1=0.2625 | ROUGE-2=0.1494 | ROUGE-L=0.2595\n",
      "Эпоха 150: Acc=0.2556 | ROUGE-1=0.2691 | ROUGE-2=0.1580 | ROUGE-L=0.2654\n",
      "Эпоха 151: Acc=0.2553 | ROUGE-1=0.2548 | ROUGE-2=0.1554 | ROUGE-L=0.2511\n",
      "Эпоха 152: Acc=0.2558 | ROUGE-1=0.2660 | ROUGE-2=0.1554 | ROUGE-L=0.2633\n",
      "Эпоха 153: Acc=0.2555 | ROUGE-1=0.2620 | ROUGE-2=0.1594 | ROUGE-L=0.2584\n",
      "Эпоха 154: Acc=0.2556 | ROUGE-1=0.2718 | ROUGE-2=0.1527 | ROUGE-L=0.2709\n",
      "Эпоха 155: Acc=0.2557 | ROUGE-1=0.2702 | ROUGE-2=0.1554 | ROUGE-L=0.2656\n",
      "Эпоха 156: Acc=0.2548 | ROUGE-1=0.2667 | ROUGE-2=0.1554 | ROUGE-L=0.2637\n",
      "Эпоха 157: Acc=0.2548 | ROUGE-1=0.2619 | ROUGE-2=0.1580 | ROUGE-L=0.2594\n",
      "Эпоха 158: Acc=0.2555 | ROUGE-1=0.2671 | ROUGE-2=0.1593 | ROUGE-L=0.2627\n",
      "Эпоха 159: Acc=0.2550 | ROUGE-1=0.2648 | ROUGE-2=0.1502 | ROUGE-L=0.2609\n",
      "Эпоха 160: Acc=0.2553 | ROUGE-1=0.2656 | ROUGE-2=0.1507 | ROUGE-L=0.2624\n",
      "Эпоха 161: Acc=0.2550 | ROUGE-1=0.2744 | ROUGE-2=0.1590 | ROUGE-L=0.2678\n",
      "Эпоха 162: Acc=0.2554 | ROUGE-1=0.2666 | ROUGE-2=0.1554 | ROUGE-L=0.2606\n"
     ]
    }
   ],
   "source": [
    "# После цикла обучения добавляем анализ ROUGE метрик\n",
    "if config['compute_rouge']:\n",
    "    print(\"\\n\" + \"=\"*60)\n",
    "    print(\"📈 АНАЛИЗ ROUGE МЕТРИК ПО ЭПОХАМ\")\n",
    "    print(\"=\"*60)\n",
    "\n",
    "    for epoch, (acc, rouge) in enumerate(zip(val_accuracies, val_rouge_metrics)):\n",
    "        if rouge and 'rouge1' in rouge:\n",
    "            print(f\"Эпоха {epoch+1}: Acc={acc:.4f} | ROUGE-1={rouge['rouge1']:.4f} | ROUGE-2={rouge['rouge2']:.4f} | ROUGE-L={rouge['rougeL']:.4f}\")\n",
    "    "
   ]
  },
  {
   "cell_type": "code",
   "execution_count": 10,
   "id": "b516af30",
   "metadata": {},
   "outputs": [
    {
     "name": "stdout",
     "output_type": "stream",
     "text": [
      "🔄 Загружаем лучшую модель из эпохи 112...\n"
     ]
    },
    {
     "name": "stderr",
     "output_type": "stream",
     "text": [
      "Testing: 100%|██████████| 160/160 [00:02<00:00, 76.84it/s]\n"
     ]
    },
    {
     "name": "stdout",
     "output_type": "stream",
     "text": [
      "🎯 Результаты тестирования:\n",
      "   Test Loss: 4.9917\n",
      "   Test Accuracy: 0.1705\n",
      "   Количество примеров: 408430\n"
     ]
    }
   ],
   "source": [
    "# Тестирование и анализ\n",
    "print(f\"🔄 Загружаем лучшую модель из эпохи {best_epoch}...\")    \n",
    "checkpoint = torch.load(config['model_dir'] / 'best_model.pth')\n",
    "model.load_state_dict(checkpoint['model_state_dict'])\n",
    "\n",
    "test_accuracy, test_loss = test_model(model, test_loader, criterion, device)\n",
    "            "
   ]
  },
  {
   "cell_type": "code",
   "execution_count": 11,
   "id": "8b3bf4be",
   "metadata": {},
   "outputs": [
    {
     "name": "stdout",
     "output_type": "stream",
     "text": [
      "💾 Результаты сохранены в: training_results_2025_10_19_22_44.json\n"
     ]
    }
   ],
   "source": [
    "# Сохранение результатов\n",
    "results = {\n",
    "    'best_validation_accuracy': best_val_acc,\n",
    "    'best_epoch': best_epoch,\n",
    "    'test_accuracy': test_accuracy,\n",
    "    'test_loss': test_loss,\n",
    "    'final_training_epochs': epoch + 1,\n",
    "    'dataset_statistics': {\n",
    "        'number_of_input_samples': config['limit'],\n",
    "        'train_samples': len(train_ds),\n",
    "        'validation_samples': len(val_ds),\n",
    "        'test_samples': len(test_ds),\n",
    "        'total_samples': len(train_ds) + len(val_ds) + len(test_ds),\n",
    "    },\n",
    "    'model_architecture': {\n",
    "        'model_type': 'NextPhrasePredictionRNN',\n",
    "        'rnn_type': config['rnn_type'],\n",
    "        'vocab_size': tokenizer.vocab_size,\n",
    "        'embedding_dim': config['emb_dim'],\n",
    "        'hidden_dim': config['hidden_dim'],\n",
    "        'max_sequence_length': config['MAX_LEN'],\n",
    "        'num_layers': config['num_layers']\n",
    "    }\n",
    "}\n",
    "\n",
    "timestamp = datetime.now().strftime('%Y_%m_%d_%H_%M')\n",
    "results_filename = f'training_results_{timestamp}.json'\n",
    "with open(config['model_dir'] / results_filename, 'w') as f:\n",
    "    json.dump(results, f, indent=2)\n",
    "\n",
    "print(f\"💾 Результаты сохранены в: {results_filename}\")"
   ]
  },
  {
   "cell_type": "code",
   "execution_count": 12,
   "id": "75fe1365",
   "metadata": {},
   "outputs": [
    {
     "name": "stdout",
     "output_type": "stream",
     "text": [
      "\n",
      "============================================================\n",
      "🔍 АНАЛИЗ ПРЕДСКАЗАНИЙ НА ТЕСТОВОЙ ВЫБОРКЕ\n",
      "============================================================\n",
      "\n",
      "❌ Примеры НЕПРАВИЛЬНЫХ предсказаний (5 из 1088):\n",
      "--------------------------------------------------\n",
      "1. Контекст: ...in space ##ports\n",
      "   Истинный токен: 'looks' | Предсказанный: 'i'\n",
      "   Статус: 🚫 ОШИБКА\n",
      "   Разница длины: 5 vs 1\n",
      "\n",
      "2. Контекст: ...##less light jedi for once\n",
      "   Истинный токен: 'why' | Предсказанный: 'i'\n",
      "   Статус: 🚫 ОШИБКА\n",
      "   Разница длины: 3 vs 1\n",
      "\n",
      "3. Контекст: ...##ery\n",
      "   Истинный токен: 'school' | Предсказанный: 'hotel'\n",
      "   Статус: 🚫 ОШИБКА\n",
      "   Разница длины: 6 vs 5\n",
      "\n",
      "4. Контекст: ...in\n",
      "   Истинный токен: 'a' | Предсказанный: 'the'\n",
      "   Статус: 🚫 ОШИБКА\n",
      "   Разница длины: 1 vs 3\n",
      "\n",
      "5. Контекст: ...how cabinet ministers appear to\n",
      "   Истинный токен: 'behave' | Предсказанный: 'be'\n",
      "   Статус: 🚫 ОШИБКА\n",
      "   Разница длины: 6 vs 2\n",
      "\n",
      "\n",
      "✅ Примеры ПРАВИЛЬНЫХ предсказаний (5 из 351):\n",
      "--------------------------------------------------\n",
      "1. Контекст: ...##cr ##uc ##iating pain i\n",
      "   Истинный токен: 'i' | Предсказанный: 'i'\n",
      "   Статус: ✅ ВЕРНО\n",
      "\n",
      "2. Контекст: ...##in for you all\n",
      "   Истинный токен: 'all' | Предсказанный: 'all'\n",
      "   Статус: ✅ ВЕРНО\n",
      "\n",
      "3. Контекст: ...over fu ##t\n",
      "   Истинный токен: '##t' | Предсказанный: '##t'\n",
      "   Статус: ✅ ВЕРНО\n",
      "\n",
      "4. Контекст: ...see f ##oin\n",
      "   Истинный токен: '##oin' | Предсказанный: '##oin'\n",
      "   Статус: ✅ ВЕРНО\n",
      "\n",
      "5. Контекст: ...do was scratch at\n",
      "   Истинный токен: 'the' | Предсказанный: 'the'\n",
      "   Статус: ✅ ВЕРНО\n",
      "\n",
      "\n",
      "📊 СТАТИСТИКА ПРЕДСКАЗАНИЙ:\n",
      "   Всего предсказаний: 1439\n",
      "   Правильных: 351 (24.39%)\n",
      "   Неправильных: 1088 (75.61%)\n",
      "   Средняя длина контекста при ошибках: 3.9 токенов\n",
      "\n",
      "🔝 Топ-10 самых частых ошибок:\n",
      "  'a' → 'the': 10 раз\n",
      "  'i' → 'and': 7 раз\n",
      "  'and' → 'i': 7 раз\n",
      "  'my' → 'i': 6 раз\n",
      "  'that' → 'i': 6 раз\n",
      "  'you' → 'i': 5 раз\n",
      "  'back' → 'to': 5 раз\n",
      "  'the' → 'to': 4 раз\n",
      "  'it' → 'the': 4 раз\n",
      "  'im' → 'i': 4 раз\n",
      "\n",
      "📏 Средняя разница в длине токенов при ошибках: 2.02\n"
     ]
    }
   ],
   "source": [
    "# Анализ предсказаний\n",
    "bad_cases, good_cases = analyze_predictions(model, test_loader, tokenizer, device)\n",
    "analyze_error_patterns(bad_cases, tokenizer)\n"
   ]
  },
  {
   "cell_type": "code",
   "execution_count": 13,
   "id": "a200d513",
   "metadata": {},
   "outputs": [
    {
     "name": "stdout",
     "output_type": "stream",
     "text": [
      "\n",
      "============================================================\n",
      "🔬 ДЕТАЛЬНЫЙ АНАЛИЗ РАБОТЫ МОДЕЛИ\n",
      "============================================================\n",
      "\n",
      "📝 Пример 1:\n",
      "----------------------------------------\n",
      "Входной текст: need ta clean which one\n",
      "Ожидаемый вывод: ta clean which one sleep\n",
      "Предсказанный вывод: toco and is i\n",
      "\n",
      "Сравнение по токенам:\n",
      "  ❌ Позиция 0: 'ta' vs 'to'\n",
      "  ❌ Позиция 1: 'clean' vs '##co'\n",
      "  ❌ Позиция 2: 'which' vs 'and'\n",
      "  ❌ Позиция 3: 'one' vs 'is'\n",
      "  ❌ Позиция 4: 'sleep' vs 'i'\n",
      "\n",
      "\n",
      "📝 Пример 2:\n",
      "----------------------------------------\n",
      "Входной текст: but i won the raf\n",
      "Ожидаемый вывод: i won the raffle\n",
      "Предсказанный вывод: i dont newa\n",
      "\n",
      "Сравнение по токенам:\n",
      "  ✅ Позиция 0: 'i' vs 'i'\n",
      "  ❌ Позиция 1: 'won' vs 'don'\n",
      "  ❌ Позиция 2: 'the' vs '##t'\n",
      "  ❌ Позиция 3: 'raf' vs 'new'\n",
      "  ❌ Позиция 4: '##fle' vs '##a'\n",
      "\n",
      "\n",
      "📝 Пример 3:\n",
      "----------------------------------------\n",
      "Входной текст: ##fle dulce for the culture crawl what did i\n",
      "Ожидаемый вывод: dulce for the culture crawl what did i win\n",
      "Предсказанный вывод: ##xvets months hospital hour go a i get\n",
      "\n",
      "Сравнение по токенам:\n",
      "  ❌ Позиция 0: 'du' vs '##x'\n",
      "  ❌ Позиция 1: '##lce' vs '##vet'\n",
      "  ❌ Позиция 2: 'for' vs '##s'\n",
      "  ❌ Позиция 3: 'the' vs 'months'\n",
      "  ❌ Позиция 4: 'culture' vs 'hospital'\n",
      "  ❌ Позиция 5: 'crawl' vs 'hour'\n",
      "  ❌ Позиция 6: 'what' vs 'go'\n",
      "  ❌ Позиция 7: 'did' vs 'a'\n",
      "  ✅ Позиция 8: 'i' vs 'i'\n",
      "  ❌ Позиция 9: 'win' vs 'get'\n",
      "\n"
     ]
    }
   ],
   "source": [
    "# Детальный анализ конкретных примеров    \n",
    "show_detailed_examples(model, test_loader, tokenizer, num_examples=3)"
   ]
  },
  {
   "cell_type": "code",
   "execution_count": 14,
   "id": "0987700f",
   "metadata": {},
   "outputs": [
    {
     "data": {
      "image/png": "[encoded data removed]",
      "text/plain": [
       "<Figure size 1600x1000 with 6 Axes>"
      ]
     },
     "metadata": {},
     "output_type": "display_data"
    },
    {
     "name": "stdout",
     "output_type": "stream",
     "text": [
      "📊 Графики сохранены в: training_results.png\n"
     ]
    }
   ],
   "source": [
    "# Визуализация результатов\n",
    "\n",
    "create_visualization(\n",
    "    train_losses=train_losses,\n",
    "    val_losses=val_losses,\n",
    "    val_accuracies=val_accuracies,\n",
    "    best_val_acc=best_val_acc,\n",
    "    test_accuracy=test_accuracy,\n",
    "    val_rouge_metrics=val_rouge_metrics,\n",
    "    #test_rouge_metrics=test_rouge,  # если есть тестовые ROUGE метрики\n",
    "    config=config\n",
    ")\n",
    "\n",
    "\n",
    "print(f\"📊 Графики сохранены в: training_results.png\")\n"
   ]
  },
  {
   "cell_type": "code",
   "execution_count": 15,
   "id": "5f82e046",
   "metadata": {},
   "outputs": [
    {
     "name": "stdout",
     "output_type": "stream",
     "text": [
      "🖥️ Используется устройство: cuda\n",
      "Таблица загружена: c:\\Users\\OMEN\\Documents\\LLM_Test\\YaPracticum\\project1_text-autocomplete_v3\\data\\test_dataset.csv\n",
      "Создание тестового датасета.\n",
      "Preparing X, Y pairs...\n"
     ]
    },
    {
     "name": "stderr",
     "output_type": "stream",
     "text": [
      "100%|██████████| 50000/50000 [00:05<00:00, 9393.13it/s] "
     ]
    },
    {
     "name": "stdout",
     "output_type": "stream",
     "text": [
      "PAIRS ARE READY!\n",
      "✅ Датасет создан: Size=40843\n"
     ]
    },
    {
     "name": "stderr",
     "output_type": "stream",
     "text": [
      "\n"
     ]
    }
   ],
   "source": [
    "# сравнение RNN LSTM vs transformer (distilGPT2)\n",
    "# Конфигурация\n",
    "device = torch.device(\"cuda\" if torch.cuda.is_available() else \"cpu\")\n",
    "print(f\"🖥️ Используется устройство: {device}\")\n",
    "\n",
    "# Пути к данным и модели\n",
    "# data_path = config['data_dir'] / '1_raw_dataset_tweets.txt'\n",
    "model_path = Path(current_dir) / 'models' / 'best_model.pth'\n",
    "# model_path = config['model_dir'] / 'lstm_50K_best_model.pth' #модель обученная на 50тыс. сообщений\n",
    "# print(data_path,model_path)\n",
    "\n",
    "#формируем/загружаем данные\n",
    "# if v_from_file: \n",
    "test=load_samples(v_file_path / 'test_dataset.csv')        \n",
    "# else:\n",
    "\n",
    "#     _, _,test = samples_preparation(\n",
    "#         v_file_path,\n",
    "#         config['source_file'],\n",
    "#         100)\n",
    "# train_ds, val_ds, test_ds, train_loader, val_loader, test_loader\n",
    "\n",
    "# test_ds,  test_loader = dataset_preparation(test, tokenizer, MAX_LEN=20, batch_size=128)\n",
    "print(\"Создание тестового датасета.\")\n",
    "test_ds,  test_loader = dataset_preparation(\n",
    "    test, \n",
    "    tokenizer, \n",
    "    MAX_LEN=config['MAX_LEN'], \n",
    "    batch_size=config['batch_size'],\n",
    "    shuffle=False)"
   ]
  },
  {
   "cell_type": "code",
   "execution_count": 17,
   "id": "be4c2665",
   "metadata": {},
   "outputs": [
    {
     "name": "stdout",
     "output_type": "stream",
     "text": [
      "\n",
      "============================================================\n",
      "🧠 ТЕСТИРОВАНИЕ LSTM МОДЕЛИ\n",
      "============================================================\n",
      "❌ Ошибка при тестировании LSTM модели: Error(s) in loading state_dict for NextPhrasePredictionRNN:\n",
      "\tUnexpected key(s) in state_dict: \"rnn.weight_ih_l1\", \"rnn.weight_hh_l1\", \"rnn.bias_ih_l1\", \"rnn.bias_hh_l1\". \n"
     ]
    }
   ],
   "source": [
    "# 2) Тестируем LSTM модель\n",
    "results_lstm = None\n",
    "lstm_tokenizer=tokenizer\n",
    "if model_path.exists():\n",
    "    try:\n",
    "        results_lstm = test_lstm_model(model_path, test_loader, lstm_tokenizer, device)\n",
    "    except Exception as e:\n",
    "        print(f\"❌ Ошибка при тестировании LSTM модели: {e}\")\n",
    "else:\n",
    "    print(f\"❌ Файл модели LSTM не найден: {model_path}\")"
   ]
  },
  {
   "cell_type": "code",
   "execution_count": null,
   "id": "6c45ebe8",
   "metadata": {},
   "outputs": [],
   "source": [
    "#сравниваем генерацию фразы равной по количеству токенов урезанной части\n",
    "# 3 модели: LSTM , GRU, distilGPT2\n",
    "results, stats, best_model = compare_models_lstm_vs_gpt2()"
   ]
  }
 ],
 "metadata": {
  "kernelspec": {
   "display_name": ".venv",
   "language": "python",
   "name": "python3"
  },
  "language_info": {
   "codemirror_mode": {
    "name": "ipython",
    "version": 3
   },
   "file_extension": ".py",
   "mimetype": "text/x-python",
   "name": "python",
   "nbconvert_exporter": "python",
   "pygments_lexer": "ipython3",
   "version": "3.11.9"
  }
 },
 "nbformat": 4,
 "nbformat_minor": 5
}
