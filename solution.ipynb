{
 "cells": [
  {
   "cell_type": "code",
   "execution_count": 1,
   "id": "0f18c312",
   "metadata": {},
   "outputs": [],
   "source": [
    "import torch\n",
    "from tqdm import tqdm\n",
    "from pathlib import Path\n",
    "import json\n",
    "from datetime import datetime\n",
    "#from sklearn.model_selection import train_test_split\n",
    "from torch.utils.data import DataLoader\n",
    "# import pandas as pd\n",
    "# import random\n",
    "# from collections import Counter\n",
    "import evaluate\n",
    "\n",
    "from transformers import AutoTokenizer, GPT2LMHeadModel\n",
    "from transformers import BertTokenizerFast\n",
    "import os\n",
    "# os.environ[\"TOKENIZERS_PARALLELISM\"] = \"false\" #необходимо на виртуальной машине Explicitly set the environment variable TOKENIZERS_PARALLELISM=(true | false)\n",
    "# ./src\n",
    "from src.data_utils import samples_preparation, load_datasets,load_samples,dataset_preparation#,load_and_clean_data, prepare_training_pairs\n",
    "#from src.next_token_dataset import TweetsDataset\n",
    "from src.lstm_model import NextPhrasePredictionRNN\n",
    "from src.eval_lstm import vevaluate3, test_model, analyze_predictions, analyze_error_patterns, show_detailed_examples\n",
    "from src.visualization import create_visualization\n",
    "# для тестирования и сравнения тестов по lstm и distilgpt2\n",
    "# from src.test_models import test_lstm_model #, test_transformer_model_new,prepare_transformer_dataset_from_loader, test_transformer_with_generation, compare_models\n",
    "# test_transformer_with_generation,create_test_dataset, test_lstm_model,prepare_transformer_dataset,test_transformer_model,compare_models\n",
    "# подготовка таблицы сравнения результатов вывода между моделями\n",
    "# from src.test_models_table import create_test_dataset, load_lstm_model,generate_lstm_completion,generate_gpt2_completion,calculate_rouge,get_actual_continuation,create_comparison_table\n",
    "# from src.test_comparison_table import compare_models_lstm_vs_gpt2"
   ]
  },
  {
   "cell_type": "code",
   "execution_count": 2,
   "id": "b6b674f8",
   "metadata": {},
   "outputs": [],
   "source": [
    "# pip install torch torchvision --index-url https://download.pytorch.org/whl/cu128"
   ]
  },
  {
   "cell_type": "code",
   "execution_count": 3,
   "id": "bd235cf4",
   "metadata": {},
   "outputs": [],
   "source": [
    "#оставляем в главном коде\n",
    "def train_epoch(model, loader, optimizer, criterion, device):\n",
    "    model.train()\n",
    "    total_loss = 0\n",
    "    progress_bar = tqdm(loader, desc=\"Train\", leave=False)\n",
    "    \n",
    "    for batch in progress_bar:\n",
    "        ids = batch['data'].to(device)\n",
    "        mask = batch['mask'].to(device)\n",
    "        labels = batch['target'].to(device)\n",
    "\n",
    "        optimizer.zero_grad()\n",
    "        logits = model(ids, mask)\n",
    "        \n",
    "        logits_flat = logits.reshape(-1, logits.size(-1))\n",
    "        labels_flat = labels.reshape(-1)\n",
    "        \n",
    "        loss = criterion(logits_flat, labels_flat)\n",
    "        loss.backward()\n",
    "        torch.nn.utils.clip_grad_norm_(model.parameters(), max_norm=1.0)\n",
    "        optimizer.step()\n",
    "\n",
    "        total_loss += loss.item()\n",
    "        progress_bar.set_postfix({\"Loss\": f\"{loss.item():.4f}\"})\n",
    "        \n",
    "    return total_loss / len(loader)"
   ]
  },
  {
   "cell_type": "code",
   "execution_count": 4,
   "id": "6985160d",
   "metadata": {},
   "outputs": [],
   "source": [
    "def save_model(model, optimizer, epoch, accuracy, loss, path, tokenizer, config):\n",
    "    torch.save({\n",
    "        'epoch': epoch,\n",
    "        'model_state_dict': model.state_dict(),\n",
    "        'optimizer_state_dict': optimizer.state_dict(),\n",
    "        'accuracy': accuracy,\n",
    "        'loss': loss,       \n",
    "        'model_config': {\n",
    "            'vocab_size': config['vocab_size'],\n",
    "            'emb_dim': config['emb_dim'],\n",
    "            'hidden_dim': config['hidden_dim'],\n",
    "            'num_layers':config['num_layers'],\n",
    "            'pad_idx': config['pad_idx']           \n",
    "        }\n",
    "    }, path)\n"
   ]
  },
  {
   "cell_type": "code",
   "execution_count": 5,
   "id": "be896721",
   "metadata": {},
   "outputs": [
    {
     "name": "stdout",
     "output_type": "stream",
     "text": [
      "Config:  {'data_dir': WindowsPath('c:/Users/OMEN/Documents/LLM_Test/YaPracticum/project1_text-autocomplete_v3/data'), 'source_file': '1_raw_dataset_tweets.txt', 'model_dir': WindowsPath('c:/Users/OMEN/Documents/LLM_Test/YaPracticum/project1_text-autocomplete_v3/models'), 'MAX_LEN': 10, 'num_epoch': 100, 'limit': 500000, 'num_layers': 2, 'hidden_dim': 128, 'emb_dim': 300, 'batch_size': 64, 'rnn_type': 'LSTM', 'tokenizer': BertTokenizerFast(name_or_path='bert-base-uncased', vocab_size=30522, model_max_length=512, is_fast=True, padding_side='right', truncation_side='right', special_tokens={'unk_token': '[UNK]', 'sep_token': '[SEP]', 'pad_token': '[PAD]', 'cls_token': '[CLS]', 'mask_token': '[MASK]'}, clean_up_tokenization_spaces=False, added_tokens_decoder={\n",
      "\t0: AddedToken(\"[PAD]\", rstrip=False, lstrip=False, single_word=False, normalized=False, special=True),\n",
      "\t100: AddedToken(\"[UNK]\", rstrip=False, lstrip=False, single_word=False, normalized=False, special=True),\n",
      "\t101: AddedToken(\"[CLS]\", rstrip=False, lstrip=False, single_word=False, normalized=False, special=True),\n",
      "\t102: AddedToken(\"[SEP]\", rstrip=False, lstrip=False, single_word=False, normalized=False, special=True),\n",
      "\t103: AddedToken(\"[MASK]\", rstrip=False, lstrip=False, single_word=False, normalized=False, special=True),\n",
      "}\n",
      "), 'pad_idx': 0, 'vocab_size': 30522, 'compute_rouge': True}\n"
     ]
    }
   ],
   "source": [
    "# Конфигурация\n",
    "current_dir = Path(os.getcwd())\n",
    "# print(current_dir)\n",
    "#   'file_path': Path(__file__).parent.parent / 'data' / '1_raw_dataset_tweets.txt',\n",
    "#     'model_dir': Path(__file__).parent.parent / 'models',  \n",
    "tokenizer = BertTokenizerFast.from_pretrained(\"bert-base-uncased\")\n",
    "config = {\n",
    "    'data_dir': Path(current_dir) / 'data',\n",
    "    'source_file': '1_raw_dataset_tweets.txt',\n",
    "    'model_dir': Path(current_dir) / 'models',\n",
    "    'MAX_LEN': 10,\n",
    "    'num_epoch':100,\n",
    "    'limit': 500000,\n",
    "    'num_layers':2,\n",
    "    'hidden_dim': 128, #128#256#512\n",
    "    'emb_dim': 300,\n",
    "    'batch_size': 64,#256\n",
    "    'rnn_type': \"LSTM\",#\"GRU\",#\"LSTM\",\n",
    "    'tokenizer': tokenizer,\n",
    "    'pad_idx':tokenizer.pad_token_id,\n",
    "    'vocab_size': tokenizer.vocab_size,\n",
    "    'compute_rouge': True\n",
    "}\n",
    "\n",
    "\n",
    "print('Config: ',config)\n",
    "\n",
    "config['model_dir'].mkdir(exist_ok=True)\n"
   ]
  },
  {
   "cell_type": "code",
   "execution_count": 6,
   "id": "3d0c8493",
   "metadata": {},
   "outputs": [
    {
     "name": "stdout",
     "output_type": "stream",
     "text": [
      "Таблица загружена: c:\\Users\\OMEN\\Documents\\LLM_Test\\YaPracticum\\project1_text-autocomplete_v3\\data\\train_dataset.csv\n",
      "Таблица загружена: c:\\Users\\OMEN\\Documents\\LLM_Test\\YaPracticum\\project1_text-autocomplete_v3\\data\\val_dataset.csv\n",
      "Таблица загружена: c:\\Users\\OMEN\\Documents\\LLM_Test\\YaPracticum\\project1_text-autocomplete_v3\\data\\test_dataset.csv\n",
      "Создание обучающего датасета.\n",
      "Preparing X, Y pairs...\n"
     ]
    },
    {
     "name": "stderr",
     "output_type": "stream",
     "text": [
      "100%|██████████| 400000/400000 [00:33<00:00, 11998.25it/s]\n"
     ]
    },
    {
     "name": "stdout",
     "output_type": "stream",
     "text": [
      "PAIRS ARE READY!\n",
      "✅ Датасет создан: Size=323886\n",
      "Создание валидационного датасета.\n",
      "Preparing X, Y pairs...\n"
     ]
    },
    {
     "name": "stderr",
     "output_type": "stream",
     "text": [
      "100%|██████████| 50000/50000 [00:04<00:00, 12245.29it/s]\n"
     ]
    },
    {
     "name": "stdout",
     "output_type": "stream",
     "text": [
      "PAIRS ARE READY!\n",
      "✅ Датасет создан: Size=40498\n",
      "Создание тестового датасета.\n",
      "Preparing X, Y pairs...\n"
     ]
    },
    {
     "name": "stderr",
     "output_type": "stream",
     "text": [
      "100%|██████████| 50000/50000 [00:04<00:00, 12297.72it/s]"
     ]
    },
    {
     "name": "stdout",
     "output_type": "stream",
     "text": [
      "PAIRS ARE READY!\n",
      "✅ Датасет создан: Size=40843\n"
     ]
    },
    {
     "name": "stderr",
     "output_type": "stream",
     "text": [
      "\n"
     ]
    }
   ],
   "source": [
    "# Загрузка и подготовка данных\n",
    "\n",
    "# формируем заново (v_from_file=0) или загружаем из фалов (v_from_file=1)\n",
    "v_file_path=config['data_dir']\n",
    "v_from_file=True\n",
    "if v_from_file: \n",
    "    train =load_samples(v_file_path / 'train_dataset.csv')\n",
    "    val = load_samples(v_file_path / 'val_dataset.csv')\n",
    "    test = load_samples(v_file_path / 'test_dataset.csv')        \n",
    "else:\n",
    "    number_samples=config['limit']\n",
    "    train,val,test = samples_preparation(\n",
    "        v_file_path,\n",
    "        config['source_file'],\n",
    "        number_samples)\n",
    "# train_ds, val_ds, test_ds, train_loader, val_loader, test_loader\n",
    "\n",
    "print(\"Создание обучающего датасета.\")\n",
    "train_ds,  train_loader = dataset_preparation(\n",
    "    train, \n",
    "    tokenizer, \n",
    "    MAX_LEN=config['MAX_LEN'], \n",
    "    batch_size=config['batch_size'],\n",
    "    shuffle=True)\n",
    "print(\"Создание валидационного датасета.\")\n",
    "val_ds,  val_loader = dataset_preparation(\n",
    "    val, \n",
    "    tokenizer, \n",
    "    MAX_LEN=config['MAX_LEN'], \n",
    "    batch_size=config['batch_size'],\n",
    "    shuffle=False)\n",
    "print(\"Создание тестового датасета.\")\n",
    "test_ds,  test_loader = dataset_preparation(\n",
    "    test, \n",
    "    tokenizer, \n",
    "    MAX_LEN=config['MAX_LEN'], \n",
    "    batch_size=config['batch_size'],\n",
    "    shuffle=False)"
   ]
  },
  {
   "cell_type": "code",
   "execution_count": 7,
   "id": "33b0de0d",
   "metadata": {},
   "outputs": [
    {
     "name": "stdout",
     "output_type": "stream",
     "text": [
      "cuda\n"
     ]
    }
   ],
   "source": [
    "# Модель, оптимизатор и функция ошибки\n",
    "device = torch.device(\"cuda\" if torch.cuda.is_available() else \"cpu\")\n",
    "print(device)\n",
    "# pad_token_id = tokenizer.pad_token_id\n",
    "\n",
    "model = NextPhrasePredictionRNN(\n",
    "    rnn_type=config['rnn_type'],\n",
    "    vocab_size=tokenizer.vocab_size,\n",
    "    num_layers=config['num_layers'],\n",
    "    emb_dim=config['emb_dim'],\n",
    "    hidden_dim=config['hidden_dim'],\n",
    "    pad_idx=config['pad_idx']#pad_token_id\n",
    ").to(device)\n",
    "\n",
    "optimizer = torch.optim.AdamW(model.parameters(), lr=1e-4, weight_decay=0.05)#1e-3, lr=3e-3)lr=1e-4, weight_decay=0.01, 0.001\n",
    "criterion = torch.nn.CrossEntropyLoss(ignore_index=config['pad_idx'])#pad_token_id)\n"
   ]
  },
  {
   "cell_type": "code",
   "execution_count": 8,
   "id": "6e856924",
   "metadata": {},
   "outputs": [
    {
     "name": "stdout",
     "output_type": "stream",
     "text": [
      "🎯 Начало обучения...\n"
     ]
    },
    {
     "name": "stderr",
     "output_type": "stream",
     "text": [
      "Обучение:   1%|          | 1/100 [01:15<2:04:31, 75.47s/эпоха, TLoss=6.8247, VLoss=6.3096, VAcc=0.1013, BestVAcc=0.1013, Patience=0/50, R1=0.112, R2=0.000]"
     ]
    },
    {
     "name": "stdout",
     "output_type": "stream",
     "text": [
      "💾 Сохранена лучшая модель с accuracy: 0.1013\n"
     ]
    },
    {
     "name": "stderr",
     "output_type": "stream",
     "text": [
      "Обучение:   2%|▏         | 2/100 [02:29<2:02:03, 74.73s/эпоха, TLoss=6.2677, VLoss=5.9672, VAcc=0.1299, BestVAcc=0.1299, Patience=0/50, R1=0.150, R2=0.005]"
     ]
    },
    {
     "name": "stdout",
     "output_type": "stream",
     "text": [
      "💾 Сохранена лучшая модель с accuracy: 0.1299\n"
     ]
    },
    {
     "name": "stderr",
     "output_type": "stream",
     "text": [
      "Обучение:   3%|▎         | 3/100 [03:44<2:00:58, 74.83s/эпоха, TLoss=6.0592, VLoss=5.8173, VAcc=0.1396, BestVAcc=0.1396, Patience=0/50, R1=0.164, R2=0.009]"
     ]
    },
    {
     "name": "stdout",
     "output_type": "stream",
     "text": [
      "💾 Сохранена лучшая модель с accuracy: 0.1396\n"
     ]
    },
    {
     "name": "stderr",
     "output_type": "stream",
     "text": [
      "Обучение:   4%|▍         | 4/100 [04:59<1:59:35, 74.75s/эпоха, TLoss=5.9507, VLoss=5.7262, VAcc=0.1459, BestVAcc=0.1459, Patience=0/50, R1=0.165, R2=0.003]"
     ]
    },
    {
     "name": "stdout",
     "output_type": "stream",
     "text": [
      "💾 Сохранена лучшая модель с accuracy: 0.1459\n"
     ]
    },
    {
     "name": "stderr",
     "output_type": "stream",
     "text": [
      "Обучение:   5%|▌         | 5/100 [06:13<1:57:56, 74.49s/эпоха, TLoss=5.8785, VLoss=5.6637, VAcc=0.1491, BestVAcc=0.1491, Patience=0/50, R1=0.178, R2=0.016]"
     ]
    },
    {
     "name": "stdout",
     "output_type": "stream",
     "text": [
      "💾 Сохранена лучшая модель с accuracy: 0.1491\n"
     ]
    },
    {
     "name": "stderr",
     "output_type": "stream",
     "text": [
      "Обучение:   6%|▌         | 6/100 [07:27<1:56:32, 74.39s/эпоха, TLoss=5.8252, VLoss=5.6190, VAcc=0.1524, BestVAcc=0.1524, Patience=0/50, R1=0.182, R2=0.007]"
     ]
    },
    {
     "name": "stdout",
     "output_type": "stream",
     "text": [
      "💾 Сохранена лучшая модель с accuracy: 0.1524\n"
     ]
    },
    {
     "name": "stderr",
     "output_type": "stream",
     "text": [
      "Обучение:   7%|▋         | 7/100 [08:42<1:55:28, 74.50s/эпоха, TLoss=5.7850, VLoss=5.5874, VAcc=0.1538, BestVAcc=0.1538, Patience=0/50, R1=0.178, R2=0.012]"
     ]
    },
    {
     "name": "stdout",
     "output_type": "stream",
     "text": [
      "💾 Сохранена лучшая модель с accuracy: 0.1538\n"
     ]
    },
    {
     "name": "stderr",
     "output_type": "stream",
     "text": [
      "Обучение:   8%|▊         | 8/100 [09:57<1:54:42, 74.81s/эпоха, TLoss=5.7491, VLoss=5.5579, VAcc=0.1554, BestVAcc=0.1554, Patience=0/50, R1=0.176, R2=0.007]"
     ]
    },
    {
     "name": "stdout",
     "output_type": "stream",
     "text": [
      "💾 Сохранена лучшая модель с accuracy: 0.1554\n"
     ]
    },
    {
     "name": "stderr",
     "output_type": "stream",
     "text": [
      "Обучение:   9%|▉         | 9/100 [11:15<1:54:43, 75.64s/эпоха, TLoss=5.7177, VLoss=5.5258, VAcc=0.1586, BestVAcc=0.1586, Patience=0/50, R1=0.182, R2=0.012]"
     ]
    },
    {
     "name": "stdout",
     "output_type": "stream",
     "text": [
      "💾 Сохранена лучшая модель с accuracy: 0.1586\n"
     ]
    },
    {
     "name": "stderr",
     "output_type": "stream",
     "text": [
      "Обучение:  10%|█         | 10/100 [12:32<1:54:24, 76.27s/эпоха, TLoss=5.6880, VLoss=5.4963, VAcc=0.1610, BestVAcc=0.1610, Patience=0/50, R1=0.186, R2=0.014]"
     ]
    },
    {
     "name": "stdout",
     "output_type": "stream",
     "text": [
      "💾 Сохранена лучшая модель с accuracy: 0.1610\n"
     ]
    },
    {
     "name": "stderr",
     "output_type": "stream",
     "text": [
      "Обучение:  11%|█         | 11/100 [14:07<2:01:23, 81.83s/эпоха, TLoss=5.6610, VLoss=5.4801, VAcc=0.1628, BestVAcc=0.1628, Patience=0/50, R1=0.194, R2=0.010]"
     ]
    },
    {
     "name": "stdout",
     "output_type": "stream",
     "text": [
      "💾 Сохранена лучшая модель с accuracy: 0.1628\n"
     ]
    },
    {
     "name": "stderr",
     "output_type": "stream",
     "text": [
      "Обучение:  12%|█▏        | 12/100 [15:22<1:57:01, 79.80s/эпоха, TLoss=5.6358, VLoss=5.4514, VAcc=0.1661, BestVAcc=0.1661, Patience=0/50, R1=0.209, R2=0.017]"
     ]
    },
    {
     "name": "stdout",
     "output_type": "stream",
     "text": [
      "💾 Сохранена лучшая модель с accuracy: 0.1661\n"
     ]
    },
    {
     "name": "stderr",
     "output_type": "stream",
     "text": [
      "Обучение:  13%|█▎        | 13/100 [16:38<1:54:08, 78.71s/эпоха, TLoss=5.6107, VLoss=5.4323, VAcc=0.1695, BestVAcc=0.1695, Patience=0/50, R1=0.215, R2=0.025]"
     ]
    },
    {
     "name": "stdout",
     "output_type": "stream",
     "text": [
      "💾 Сохранена лучшая модель с accuracy: 0.1695\n"
     ]
    },
    {
     "name": "stderr",
     "output_type": "stream",
     "text": [
      "Обучение:  14%|█▍        | 14/100 [18:29<2:06:51, 88.51s/эпоха, TLoss=5.5876, VLoss=5.4151, VAcc=0.1712, BestVAcc=0.1712, Patience=0/50, R1=0.229, R2=0.032]"
     ]
    },
    {
     "name": "stdout",
     "output_type": "stream",
     "text": [
      "💾 Сохранена лучшая модель с accuracy: 0.1712\n"
     ]
    },
    {
     "name": "stderr",
     "output_type": "stream",
     "text": [
      "Обучение:  15%|█▌        | 15/100 [20:43<2:24:46, 102.20s/эпоха, TLoss=5.5591, VLoss=5.3693, VAcc=0.1809, BestVAcc=0.1809, Patience=0/50, R1=0.243, R2=0.076]"
     ]
    },
    {
     "name": "stdout",
     "output_type": "stream",
     "text": [
      "💾 Сохранена лучшая модель с accuracy: 0.1809\n"
     ]
    },
    {
     "name": "stderr",
     "output_type": "stream",
     "text": [
      "Обучение:  16%|█▌        | 16/100 [21:59<2:11:47, 94.14s/эпоха, TLoss=5.4445, VLoss=5.1954, VAcc=0.2156, BestVAcc=0.2156, Patience=0/50, R1=0.215, R2=0.070] "
     ]
    },
    {
     "name": "stdout",
     "output_type": "stream",
     "text": [
      "💾 Сохранена лучшая модель с accuracy: 0.2156\n"
     ]
    },
    {
     "name": "stderr",
     "output_type": "stream",
     "text": [
      "Обучение:  17%|█▋        | 17/100 [23:46<2:15:39, 98.07s/эпоха, TLoss=5.3179, VLoss=5.1194, VAcc=0.2276, BestVAcc=0.2276, Patience=0/50, R1=0.234, R2=0.101]"
     ]
    },
    {
     "name": "stdout",
     "output_type": "stream",
     "text": [
      "💾 Сохранена лучшая модель с accuracy: 0.2276\n"
     ]
    },
    {
     "name": "stderr",
     "output_type": "stream",
     "text": [
      "Обучение:  18%|█▊        | 18/100 [25:36<2:19:00, 101.71s/эпоха, TLoss=5.2481, VLoss=5.0696, VAcc=0.2347, BestVAcc=0.2347, Patience=0/50, R1=0.230, R2=0.090]"
     ]
    },
    {
     "name": "stdout",
     "output_type": "stream",
     "text": [
      "💾 Сохранена лучшая модель с accuracy: 0.2347\n"
     ]
    },
    {
     "name": "stderr",
     "output_type": "stream",
     "text": [
      "Обучение:  19%|█▉        | 19/100 [27:30<2:22:20, 105.44s/эпоха, TLoss=5.1986, VLoss=5.0368, VAcc=0.2388, BestVAcc=0.2388, Patience=0/50, R1=0.246, R2=0.116]"
     ]
    },
    {
     "name": "stdout",
     "output_type": "stream",
     "text": [
      "💾 Сохранена лучшая модель с accuracy: 0.2388\n"
     ]
    },
    {
     "name": "stderr",
     "output_type": "stream",
     "text": [
      "Обучение:  20%|██        | 20/100 [29:46<2:32:43, 114.54s/эпоха, TLoss=5.1596, VLoss=5.0125, VAcc=0.2418, BestVAcc=0.2418, Patience=0/50, R1=0.251, R2=0.119]"
     ]
    },
    {
     "name": "stdout",
     "output_type": "stream",
     "text": [
      "💾 Сохранена лучшая модель с accuracy: 0.2418\n"
     ]
    },
    {
     "name": "stderr",
     "output_type": "stream",
     "text": [
      "Обучение:  21%|██        | 21/100 [31:43<2:31:39, 115.18s/эпоха, TLoss=5.1283, VLoss=4.9949, VAcc=0.2437, BestVAcc=0.2437, Patience=0/50, R1=0.261, R2=0.141]"
     ]
    },
    {
     "name": "stdout",
     "output_type": "stream",
     "text": [
      "💾 Сохранена лучшая модель с accuracy: 0.2437\n"
     ]
    },
    {
     "name": "stderr",
     "output_type": "stream",
     "text": [
      "Обучение:  22%|██▏       | 22/100 [33:24<2:24:13, 110.94s/эпоха, TLoss=5.1032, VLoss=4.9840, VAcc=0.2455, BestVAcc=0.2455, Patience=0/50, R1=0.257, R2=0.139]"
     ]
    },
    {
     "name": "stdout",
     "output_type": "stream",
     "text": [
      "💾 Сохранена лучшая модель с accuracy: 0.2455\n"
     ]
    },
    {
     "name": "stderr",
     "output_type": "stream",
     "text": [
      "Обучение:  23%|██▎       | 23/100 [34:58<2:16:08, 106.08s/эпоха, TLoss=5.0827, VLoss=4.9748, VAcc=0.2461, BestVAcc=0.2461, Patience=0/50, R1=0.247, R2=0.121]"
     ]
    },
    {
     "name": "stdout",
     "output_type": "stream",
     "text": [
      "💾 Сохранена лучшая модель с accuracy: 0.2461\n"
     ]
    },
    {
     "name": "stderr",
     "output_type": "stream",
     "text": [
      "Обучение:  24%|██▍       | 24/100 [36:14<2:02:39, 96.83s/эпоха, TLoss=5.0626, VLoss=4.9646, VAcc=0.2467, BestVAcc=0.2467, Patience=0/50, R1=0.267, R2=0.141] "
     ]
    },
    {
     "name": "stdout",
     "output_type": "stream",
     "text": [
      "💾 Сохранена лучшая модель с accuracy: 0.2467\n"
     ]
    },
    {
     "name": "stderr",
     "output_type": "stream",
     "text": [
      "Обучение:  25%|██▌       | 25/100 [37:28<1:52:48, 90.24s/эпоха, TLoss=5.0454, VLoss=4.9536, VAcc=0.2488, BestVAcc=0.2488, Patience=0/50, R1=0.257, R2=0.137]"
     ]
    },
    {
     "name": "stdout",
     "output_type": "stream",
     "text": [
      "💾 Сохранена лучшая модель с accuracy: 0.2488\n"
     ]
    },
    {
     "name": "stderr",
     "output_type": "stream",
     "text": [
      "Обучение:  26%|██▌       | 26/100 [38:44<1:45:46, 85.77s/эпоха, TLoss=5.0311, VLoss=4.9458, VAcc=0.2498, BestVAcc=0.2498, Patience=0/50, R1=0.246, R2=0.125]"
     ]
    },
    {
     "name": "stdout",
     "output_type": "stream",
     "text": [
      "💾 Сохранена лучшая модель с accuracy: 0.2498\n"
     ]
    },
    {
     "name": "stderr",
     "output_type": "stream",
     "text": [
      "Обучение:  27%|██▋       | 27/100 [40:00<1:40:46, 82.82s/эпоха, TLoss=5.0191, VLoss=4.9416, VAcc=0.2500, BestVAcc=0.2500, Patience=0/50, R1=0.268, R2=0.136]"
     ]
    },
    {
     "name": "stdout",
     "output_type": "stream",
     "text": [
      "💾 Сохранена лучшая модель с accuracy: 0.2500\n"
     ]
    },
    {
     "name": "stderr",
     "output_type": "stream",
     "text": [
      "Обучение:  28%|██▊       | 28/100 [41:14<1:36:25, 80.36s/эпоха, TLoss=5.0067, VLoss=4.9402, VAcc=0.2509, BestVAcc=0.2509, Patience=0/50, R1=0.261, R2=0.136]"
     ]
    },
    {
     "name": "stdout",
     "output_type": "stream",
     "text": [
      "💾 Сохранена лучшая модель с accuracy: 0.2509\n"
     ]
    },
    {
     "name": "stderr",
     "output_type": "stream",
     "text": [
      "Обучение:  29%|██▉       | 29/100 [42:29<1:32:54, 78.51s/эпоха, TLoss=4.9970, VLoss=4.9298, VAcc=0.2514, BestVAcc=0.2514, Patience=0/50, R1=0.247, R2=0.126]"
     ]
    },
    {
     "name": "stdout",
     "output_type": "stream",
     "text": [
      "💾 Сохранена лучшая модель с accuracy: 0.2514\n"
     ]
    },
    {
     "name": "stderr",
     "output_type": "stream",
     "text": [
      "Обучение:  31%|███       | 31/100 [44:58<1:28:05, 76.61s/эпоха, TLoss=4.9770, VLoss=4.9277, VAcc=0.2523, BestVAcc=0.2523, Patience=0/50, R1=0.253, R2=0.133]"
     ]
    },
    {
     "name": "stdout",
     "output_type": "stream",
     "text": [
      "💾 Сохранена лучшая модель с accuracy: 0.2523\n"
     ]
    },
    {
     "name": "stderr",
     "output_type": "stream",
     "text": [
      "Обучение:  32%|███▏      | 32/100 [46:14<1:26:40, 76.48s/эпоха, TLoss=4.9685, VLoss=4.9251, VAcc=0.2526, BestVAcc=0.2526, Patience=0/50, R1=0.249, R2=0.126]"
     ]
    },
    {
     "name": "stdout",
     "output_type": "stream",
     "text": [
      "💾 Сохранена лучшая модель с accuracy: 0.2526\n"
     ]
    },
    {
     "name": "stderr",
     "output_type": "stream",
     "text": [
      "Обучение:  34%|███▍      | 34/100 [48:46<1:23:44, 76.12s/эпоха, TLoss=4.9523, VLoss=4.9212, VAcc=0.2528, BestVAcc=0.2528, Patience=0/50, R1=0.253, R2=0.137]"
     ]
    },
    {
     "name": "stdout",
     "output_type": "stream",
     "text": [
      "💾 Сохранена лучшая модель с accuracy: 0.2528\n"
     ]
    },
    {
     "name": "stderr",
     "output_type": "stream",
     "text": [
      "Обучение:  35%|███▌      | 35/100 [50:02<1:22:22, 76.03s/эпоха, TLoss=4.9448, VLoss=4.9173, VAcc=0.2534, BestVAcc=0.2534, Patience=0/50, R1=0.262, R2=0.138]"
     ]
    },
    {
     "name": "stdout",
     "output_type": "stream",
     "text": [
      "💾 Сохранена лучшая модель с accuracy: 0.2534\n"
     ]
    },
    {
     "name": "stderr",
     "output_type": "stream",
     "text": [
      "Обучение:  38%|███▊      | 38/100 [53:48<1:18:13, 75.70s/эпоха, TLoss=4.9258, VLoss=4.9157, VAcc=0.2542, BestVAcc=0.2542, Patience=0/50, R1=0.255, R2=0.132]"
     ]
    },
    {
     "name": "stdout",
     "output_type": "stream",
     "text": [
      "💾 Сохранена лучшая модель с accuracy: 0.2542\n"
     ]
    },
    {
     "name": "stderr",
     "output_type": "stream",
     "text": [
      "Обучение:  41%|████      | 41/100 [57:35<1:14:32, 75.81s/эпоха, TLoss=4.9086, VLoss=4.9118, VAcc=0.2550, BestVAcc=0.2550, Patience=0/50, R1=0.251, R2=0.126]"
     ]
    },
    {
     "name": "stdout",
     "output_type": "stream",
     "text": [
      "💾 Сохранена лучшая модель с accuracy: 0.2550\n"
     ]
    },
    {
     "name": "stderr",
     "output_type": "stream",
     "text": [
      "Обучение:  45%|████▌     | 45/100 [1:03:39<1:24:02, 91.68s/эпоха, TLoss=4.8898, VLoss=4.9135, VAcc=0.2555, BestVAcc=0.2555, Patience=0/50, R1=0.255, R2=0.139]"
     ]
    },
    {
     "name": "stdout",
     "output_type": "stream",
     "text": [
      "💾 Сохранена лучшая модель с accuracy: 0.2555\n"
     ]
    },
    {
     "name": "stderr",
     "output_type": "stream",
     "text": [
      "Обучение:  50%|█████     | 50/100 [1:12:25<1:18:44, 94.49s/эпоха, TLoss=4.8698, VLoss=4.9167, VAcc=0.2555, BestVAcc=0.2555, Patience=0/50, R1=0.262, R2=0.134] "
     ]
    },
    {
     "name": "stdout",
     "output_type": "stream",
     "text": [
      "💾 Сохранена лучшая модель с accuracy: 0.2555\n"
     ]
    },
    {
     "name": "stderr",
     "output_type": "stream",
     "text": [
      "Обучение:  56%|█████▌    | 56/100 [1:20:04<57:51, 78.90s/эпоха, TLoss=4.8490, VLoss=4.9206, VAcc=0.2557, BestVAcc=0.2557, Patience=0/50, R1=0.272, R2=0.148]  "
     ]
    },
    {
     "name": "stdout",
     "output_type": "stream",
     "text": [
      "💾 Сохранена лучшая модель с accuracy: 0.2557\n"
     ]
    },
    {
     "name": "stderr",
     "output_type": "stream",
     "text": [
      "Обучение:  64%|██████▍   | 64/100 [1:30:09<45:12, 75.36s/эпоха, TLoss=4.8255, VLoss=4.9258, VAcc=0.2559, BestVAcc=0.2559, Patience=0/50, R1=0.256, R2=0.147]"
     ]
    },
    {
     "name": "stdout",
     "output_type": "stream",
     "text": [
      "💾 Сохранена лучшая модель с accuracy: 0.2559\n"
     ]
    },
    {
     "name": "stderr",
     "output_type": "stream",
     "text": [
      "Обучение: 100%|██████████| 100/100 [2:26:26<00:00, 87.86s/эпоха, TLoss=4.7497, VLoss=4.9717, VAcc=0.2554, BestVAcc=0.2559, Patience=36/50, R1=0.262, R2=0.142]\n"
     ]
    }
   ],
   "source": [
    "# Обучение (основной цикл)\n",
    "train_losses, val_accuracies, val_losses, val_rouge_metrics = [], [], [], []\n",
    "best_val_acc, best_epoch, patience_counter = 0, 0, 0\n",
    "patience = 50\n",
    "\n",
    "print(\"🎯 Начало обучения...\")\n",
    "num_epoch=config['num_epoch']\n",
    "epoch_loop = tqdm(range(num_epoch), desc=\"Обучение\", unit=\"эпоха\")\n",
    "\n",
    "for epoch in epoch_loop:\n",
    "    train_loss = train_epoch(model, train_loader, optimizer, criterion, device)\n",
    "    train_losses.append(train_loss)\n",
    "    # vevaluate(model, loader, criterion, device, tokenizer, compute_rouge=False, num_rouge_examples=50)\n",
    "    # оценка модели на валидации\n",
    "    val_acc, val_loss, val_rouge = vevaluate3(\n",
    "        model=model, \n",
    "        loader=val_loader, \n",
    "        criterion=criterion, \n",
    "        device=device, \n",
    "        tokenizer=tokenizer, \n",
    "        compute_rouge = config['compute_rouge'], \n",
    "        num_rouge_examples=50\n",
    "    )\n",
    "        \n",
    "            \n",
    "    val_accuracies.append(val_acc)\n",
    "    val_losses.append(val_loss)\n",
    "    val_rouge_metrics.append(val_rouge)\n",
    "    \n",
    "    if val_acc > best_val_acc:\n",
    "        best_val_acc = val_acc\n",
    "        best_epoch = epoch + 1\n",
    "        patience_counter = 0\n",
    "        \n",
    "        best_model_path = config['model_dir'] / 'best_model.pth'\n",
    "        save_model(model, optimizer, epoch, val_acc, val_loss, best_model_path, \n",
    "                    tokenizer, config)\n",
    "        print(f\"💾 Сохранена лучшая модель с accuracy: {val_acc:.4f}\")\n",
    "    else:\n",
    "        patience_counter += 1\n",
    "    # Обновляем прогресс-бар с ROUGE метриками\n",
    "    rouge_info = \"\"\n",
    "    if val_rouge and 'rouge1' in val_rouge:\n",
    "        rouge_info = f\" | R1: {val_rouge['rouge1']:.3f}\"\n",
    "        \n",
    "    # epoch_loop.set_postfix({\n",
    "    #     \"Loss\": f\"{train_loss:.4f}\",\n",
    "    #     \"Val Acc\": f\"{val_acc:.4f}\",\n",
    "    #     \"Best Acc\": f\"{best_val_acc:.4f}\",\n",
    "    #     \"Patience\": f\"{patience_counter}/{patience}\"\n",
    "    # })\n",
    "    \n",
    "    postfix_data = {\n",
    "    \"TLoss\": f\"{train_loss:.4f}\",\n",
    "    \"VLoss\": f\"{val_loss:.4f}\",    \n",
    "    \"VAcc\": f\"{val_acc:.4f}\",\n",
    "    \"BestVAcc\": f\"{best_val_acc:.4f}\",\n",
    "    \"Patience\": f\"{patience_counter}/{patience}\"\n",
    "    }\n",
    "    # Добавляем ROUGE метрики если они есть\n",
    "    if val_rouge and 'rouge1' in val_rouge:\n",
    "        postfix_data[\"R1\"] = f\"{val_rouge['rouge1']:.3f}\"\n",
    "        postfix_data[\"R2\"] = f\"{val_rouge['rouge2']:.3f}\"\n",
    "\n",
    "    epoch_loop.set_postfix(postfix_data)\n",
    "    \n",
    "    if patience_counter >= patience:\n",
    "        print(f\"🛑 Ранняя остановка на эпохе {epoch + 1}\")\n",
    "        break"
   ]
  },
  {
   "cell_type": "code",
   "execution_count": 9,
   "id": "0c97c8e2",
   "metadata": {},
   "outputs": [
    {
     "name": "stdout",
     "output_type": "stream",
     "text": [
      "\n",
      "============================================================\n",
      "📈 АНАЛИЗ ROUGE МЕТРИК ПО ЭПОХАМ\n",
      "============================================================\n",
      "Эпоха 1: Acc=0.1013 | ROUGE-1=0.1117 | ROUGE-2=0.0000 | ROUGE-L=0.1085\n",
      "Эпоха 2: Acc=0.1299 | ROUGE-1=0.1499 | ROUGE-2=0.0047 | ROUGE-L=0.1408\n",
      "Эпоха 3: Acc=0.1396 | ROUGE-1=0.1635 | ROUGE-2=0.0092 | ROUGE-L=0.1656\n",
      "Эпоха 4: Acc=0.1459 | ROUGE-1=0.1647 | ROUGE-2=0.0025 | ROUGE-L=0.1630\n",
      "Эпоха 5: Acc=0.1491 | ROUGE-1=0.1784 | ROUGE-2=0.0164 | ROUGE-L=0.1750\n",
      "Эпоха 6: Acc=0.1524 | ROUGE-1=0.1824 | ROUGE-2=0.0072 | ROUGE-L=0.1792\n",
      "Эпоха 7: Acc=0.1538 | ROUGE-1=0.1779 | ROUGE-2=0.0122 | ROUGE-L=0.1711\n",
      "Эпоха 8: Acc=0.1554 | ROUGE-1=0.1765 | ROUGE-2=0.0071 | ROUGE-L=0.1744\n",
      "Эпоха 9: Acc=0.1586 | ROUGE-1=0.1816 | ROUGE-2=0.0118 | ROUGE-L=0.1790\n",
      "Эпоха 10: Acc=0.1610 | ROUGE-1=0.1861 | ROUGE-2=0.0144 | ROUGE-L=0.1859\n",
      "Эпоха 11: Acc=0.1628 | ROUGE-1=0.1939 | ROUGE-2=0.0097 | ROUGE-L=0.1894\n",
      "Эпоха 12: Acc=0.1661 | ROUGE-1=0.2091 | ROUGE-2=0.0174 | ROUGE-L=0.2059\n",
      "Эпоха 13: Acc=0.1695 | ROUGE-1=0.2150 | ROUGE-2=0.0246 | ROUGE-L=0.2064\n",
      "Эпоха 14: Acc=0.1712 | ROUGE-1=0.2288 | ROUGE-2=0.0324 | ROUGE-L=0.2225\n",
      "Эпоха 15: Acc=0.1809 | ROUGE-1=0.2426 | ROUGE-2=0.0764 | ROUGE-L=0.2407\n",
      "Эпоха 16: Acc=0.2156 | ROUGE-1=0.2151 | ROUGE-2=0.0704 | ROUGE-L=0.2079\n",
      "Эпоха 17: Acc=0.2276 | ROUGE-1=0.2345 | ROUGE-2=0.1010 | ROUGE-L=0.2267\n",
      "Эпоха 18: Acc=0.2347 | ROUGE-1=0.2300 | ROUGE-2=0.0904 | ROUGE-L=0.2230\n",
      "Эпоха 19: Acc=0.2388 | ROUGE-1=0.2463 | ROUGE-2=0.1164 | ROUGE-L=0.2393\n",
      "Эпоха 20: Acc=0.2418 | ROUGE-1=0.2508 | ROUGE-2=0.1187 | ROUGE-L=0.2442\n",
      "Эпоха 21: Acc=0.2437 | ROUGE-1=0.2611 | ROUGE-2=0.1407 | ROUGE-L=0.2534\n",
      "Эпоха 22: Acc=0.2455 | ROUGE-1=0.2565 | ROUGE-2=0.1387 | ROUGE-L=0.2467\n",
      "Эпоха 23: Acc=0.2461 | ROUGE-1=0.2469 | ROUGE-2=0.1214 | ROUGE-L=0.2405\n",
      "Эпоха 24: Acc=0.2467 | ROUGE-1=0.2665 | ROUGE-2=0.1412 | ROUGE-L=0.2572\n",
      "Эпоха 25: Acc=0.2488 | ROUGE-1=0.2565 | ROUGE-2=0.1367 | ROUGE-L=0.2509\n",
      "Эпоха 26: Acc=0.2498 | ROUGE-1=0.2465 | ROUGE-2=0.1251 | ROUGE-L=0.2408\n",
      "Эпоха 27: Acc=0.2500 | ROUGE-1=0.2681 | ROUGE-2=0.1355 | ROUGE-L=0.2588\n",
      "Эпоха 28: Acc=0.2509 | ROUGE-1=0.2612 | ROUGE-2=0.1362 | ROUGE-L=0.2559\n",
      "Эпоха 29: Acc=0.2514 | ROUGE-1=0.2467 | ROUGE-2=0.1263 | ROUGE-L=0.2412\n",
      "Эпоха 30: Acc=0.2507 | ROUGE-1=0.2606 | ROUGE-2=0.1405 | ROUGE-L=0.2496\n",
      "Эпоха 31: Acc=0.2523 | ROUGE-1=0.2531 | ROUGE-2=0.1332 | ROUGE-L=0.2524\n",
      "Эпоха 32: Acc=0.2526 | ROUGE-1=0.2487 | ROUGE-2=0.1263 | ROUGE-L=0.2436\n",
      "Эпоха 33: Acc=0.2522 | ROUGE-1=0.2684 | ROUGE-2=0.1430 | ROUGE-L=0.2617\n",
      "Эпоха 34: Acc=0.2528 | ROUGE-1=0.2531 | ROUGE-2=0.1367 | ROUGE-L=0.2501\n",
      "Эпоха 35: Acc=0.2534 | ROUGE-1=0.2623 | ROUGE-2=0.1384 | ROUGE-L=0.2510\n",
      "Эпоха 36: Acc=0.2534 | ROUGE-1=0.2672 | ROUGE-2=0.1408 | ROUGE-L=0.2540\n",
      "Эпоха 37: Acc=0.2534 | ROUGE-1=0.2631 | ROUGE-2=0.1380 | ROUGE-L=0.2501\n",
      "Эпоха 38: Acc=0.2542 | ROUGE-1=0.2553 | ROUGE-2=0.1320 | ROUGE-L=0.2477\n",
      "Эпоха 39: Acc=0.2526 | ROUGE-1=0.2631 | ROUGE-2=0.1382 | ROUGE-L=0.2547\n",
      "Эпоха 40: Acc=0.2533 | ROUGE-1=0.2477 | ROUGE-2=0.1263 | ROUGE-L=0.2412\n",
      "Эпоха 41: Acc=0.2550 | ROUGE-1=0.2509 | ROUGE-2=0.1263 | ROUGE-L=0.2450\n",
      "Эпоха 42: Acc=0.2545 | ROUGE-1=0.2660 | ROUGE-2=0.1436 | ROUGE-L=0.2589\n",
      "Эпоха 43: Acc=0.2545 | ROUGE-1=0.2649 | ROUGE-2=0.1343 | ROUGE-L=0.2564\n",
      "Эпоха 44: Acc=0.2544 | ROUGE-1=0.2619 | ROUGE-2=0.1343 | ROUGE-L=0.2520\n",
      "Эпоха 45: Acc=0.2555 | ROUGE-1=0.2548 | ROUGE-2=0.1388 | ROUGE-L=0.2536\n",
      "Эпоха 46: Acc=0.2551 | ROUGE-1=0.2481 | ROUGE-2=0.1317 | ROUGE-L=0.2464\n",
      "Эпоха 47: Acc=0.2536 | ROUGE-1=0.2714 | ROUGE-2=0.1458 | ROUGE-L=0.2653\n",
      "Эпоха 48: Acc=0.2545 | ROUGE-1=0.2654 | ROUGE-2=0.1442 | ROUGE-L=0.2593\n",
      "Эпоха 49: Acc=0.2554 | ROUGE-1=0.2636 | ROUGE-2=0.1369 | ROUGE-L=0.2559\n",
      "Эпоха 50: Acc=0.2555 | ROUGE-1=0.2624 | ROUGE-2=0.1343 | ROUGE-L=0.2544\n",
      "Эпоха 51: Acc=0.2555 | ROUGE-1=0.2559 | ROUGE-2=0.1408 | ROUGE-L=0.2518\n",
      "Эпоха 52: Acc=0.2552 | ROUGE-1=0.2832 | ROUGE-2=0.1429 | ROUGE-L=0.2724\n",
      "Эпоха 53: Acc=0.2550 | ROUGE-1=0.2661 | ROUGE-2=0.1362 | ROUGE-L=0.2575\n",
      "Эпоха 54: Acc=0.2551 | ROUGE-1=0.2574 | ROUGE-2=0.1362 | ROUGE-L=0.2490\n",
      "Эпоха 55: Acc=0.2551 | ROUGE-1=0.2672 | ROUGE-2=0.1437 | ROUGE-L=0.2665\n",
      "Эпоха 56: Acc=0.2557 | ROUGE-1=0.2723 | ROUGE-2=0.1477 | ROUGE-L=0.2630\n",
      "Эпоха 57: Acc=0.2553 | ROUGE-1=0.2465 | ROUGE-2=0.1394 | ROUGE-L=0.2443\n",
      "Эпоха 58: Acc=0.2547 | ROUGE-1=0.2582 | ROUGE-2=0.1503 | ROUGE-L=0.2546\n",
      "Эпоха 59: Acc=0.2551 | ROUGE-1=0.2593 | ROUGE-2=0.1367 | ROUGE-L=0.2532\n",
      "Эпоха 60: Acc=0.2556 | ROUGE-1=0.2529 | ROUGE-2=0.1394 | ROUGE-L=0.2468\n",
      "Эпоха 61: Acc=0.2552 | ROUGE-1=0.2626 | ROUGE-2=0.1367 | ROUGE-L=0.2560\n",
      "Эпоха 62: Acc=0.2555 | ROUGE-1=0.2643 | ROUGE-2=0.1511 | ROUGE-L=0.2570\n",
      "Эпоха 63: Acc=0.2554 | ROUGE-1=0.2740 | ROUGE-2=0.1458 | ROUGE-L=0.2621\n",
      "Эпоха 64: Acc=0.2559 | ROUGE-1=0.2560 | ROUGE-2=0.1466 | ROUGE-L=0.2543\n",
      "Эпоха 65: Acc=0.2555 | ROUGE-1=0.2719 | ROUGE-2=0.1367 | ROUGE-L=0.2587\n",
      "Эпоха 66: Acc=0.2553 | ROUGE-1=0.2604 | ROUGE-2=0.1382 | ROUGE-L=0.2562\n",
      "Эпоха 67: Acc=0.2555 | ROUGE-1=0.2692 | ROUGE-2=0.1367 | ROUGE-L=0.2678\n",
      "Эпоха 68: Acc=0.2553 | ROUGE-1=0.2559 | ROUGE-2=0.1394 | ROUGE-L=0.2508\n",
      "Эпоха 69: Acc=0.2556 | ROUGE-1=0.2762 | ROUGE-2=0.1509 | ROUGE-L=0.2653\n",
      "Эпоха 70: Acc=0.2555 | ROUGE-1=0.2800 | ROUGE-2=0.1483 | ROUGE-L=0.2726\n",
      "Эпоха 71: Acc=0.2551 | ROUGE-1=0.2528 | ROUGE-2=0.1340 | ROUGE-L=0.2469\n",
      "Эпоха 72: Acc=0.2550 | ROUGE-1=0.2680 | ROUGE-2=0.1387 | ROUGE-L=0.2651\n",
      "Эпоха 73: Acc=0.2548 | ROUGE-1=0.2607 | ROUGE-2=0.1390 | ROUGE-L=0.2571\n",
      "Эпоха 74: Acc=0.2552 | ROUGE-1=0.2845 | ROUGE-2=0.1480 | ROUGE-L=0.2736\n",
      "Эпоха 75: Acc=0.2553 | ROUGE-1=0.2587 | ROUGE-2=0.1336 | ROUGE-L=0.2502\n",
      "Эпоха 76: Acc=0.2555 | ROUGE-1=0.2540 | ROUGE-2=0.1369 | ROUGE-L=0.2428\n",
      "Эпоха 77: Acc=0.2553 | ROUGE-1=0.2716 | ROUGE-2=0.1450 | ROUGE-L=0.2602\n",
      "Эпоха 78: Acc=0.2546 | ROUGE-1=0.2722 | ROUGE-2=0.1398 | ROUGE-L=0.2642\n",
      "Эпоха 79: Acc=0.2551 | ROUGE-1=0.2746 | ROUGE-2=0.1354 | ROUGE-L=0.2701\n",
      "Эпоха 80: Acc=0.2558 | ROUGE-1=0.2870 | ROUGE-2=0.1429 | ROUGE-L=0.2770\n",
      "Эпоха 81: Acc=0.2554 | ROUGE-1=0.2703 | ROUGE-2=0.1466 | ROUGE-L=0.2601\n",
      "Эпоха 82: Acc=0.2555 | ROUGE-1=0.2742 | ROUGE-2=0.1415 | ROUGE-L=0.2702\n",
      "Эпоха 83: Acc=0.2558 | ROUGE-1=0.2665 | ROUGE-2=0.1417 | ROUGE-L=0.2658\n",
      "Эпоха 84: Acc=0.2552 | ROUGE-1=0.2626 | ROUGE-2=0.1357 | ROUGE-L=0.2607\n",
      "Эпоха 85: Acc=0.2556 | ROUGE-1=0.2769 | ROUGE-2=0.1480 | ROUGE-L=0.2681\n",
      "Эпоха 86: Acc=0.2555 | ROUGE-1=0.2623 | ROUGE-2=0.1388 | ROUGE-L=0.2584\n",
      "Эпоха 87: Acc=0.2551 | ROUGE-1=0.2727 | ROUGE-2=0.1412 | ROUGE-L=0.2652\n",
      "Эпоха 88: Acc=0.2550 | ROUGE-1=0.2709 | ROUGE-2=0.1421 | ROUGE-L=0.2606\n",
      "Эпоха 89: Acc=0.2546 | ROUGE-1=0.2663 | ROUGE-2=0.1367 | ROUGE-L=0.2549\n",
      "Эпоха 90: Acc=0.2556 | ROUGE-1=0.2841 | ROUGE-2=0.1408 | ROUGE-L=0.2766\n",
      "Эпоха 91: Acc=0.2556 | ROUGE-1=0.2802 | ROUGE-2=0.1435 | ROUGE-L=0.2685\n",
      "Эпоха 92: Acc=0.2547 | ROUGE-1=0.2652 | ROUGE-2=0.1345 | ROUGE-L=0.2563\n",
      "Эпоха 93: Acc=0.2557 | ROUGE-1=0.2728 | ROUGE-2=0.1388 | ROUGE-L=0.2688\n",
      "Эпоха 94: Acc=0.2550 | ROUGE-1=0.2707 | ROUGE-2=0.1408 | ROUGE-L=0.2588\n",
      "Эпоха 95: Acc=0.2556 | ROUGE-1=0.2609 | ROUGE-2=0.1357 | ROUGE-L=0.2560\n",
      "Эпоха 96: Acc=0.2551 | ROUGE-1=0.2858 | ROUGE-2=0.1480 | ROUGE-L=0.2771\n",
      "Эпоха 97: Acc=0.2548 | ROUGE-1=0.2759 | ROUGE-2=0.1343 | ROUGE-L=0.2676\n",
      "Эпоха 98: Acc=0.2555 | ROUGE-1=0.2671 | ROUGE-2=0.1367 | ROUGE-L=0.2618\n",
      "Эпоха 99: Acc=0.2552 | ROUGE-1=0.2771 | ROUGE-2=0.1431 | ROUGE-L=0.2650\n",
      "Эпоха 100: Acc=0.2554 | ROUGE-1=0.2616 | ROUGE-2=0.1420 | ROUGE-L=0.2564\n"
     ]
    }
   ],
   "source": [
    "# После цикла обучения добавляем анализ ROUGE метрик\n",
    "if config['compute_rouge']:\n",
    "    print(\"\\n\" + \"=\"*60)\n",
    "    print(\"📈 АНАЛИЗ ROUGE МЕТРИК ПО ЭПОХАМ\")\n",
    "    print(\"=\"*60)\n",
    "\n",
    "    for epoch, (acc, rouge) in enumerate(zip(val_accuracies, val_rouge_metrics)):\n",
    "        if rouge and 'rouge1' in rouge:\n",
    "            print(f\"Эпоха {epoch+1}: Acc={acc:.4f} | ROUGE-1={rouge['rouge1']:.4f} | ROUGE-2={rouge['rouge2']:.4f} | ROUGE-L={rouge['rougeL']:.4f}\")\n",
    "    "
   ]
  },
  {
   "cell_type": "code",
   "execution_count": 10,
   "id": "b516af30",
   "metadata": {},
   "outputs": [
    {
     "name": "stdout",
     "output_type": "stream",
     "text": [
      "🔄 Загружаем лучшую модель из эпохи 64...\n"
     ]
    },
    {
     "name": "stderr",
     "output_type": "stream",
     "text": [
      "Testing: 100%|██████████| 639/639 [00:01<00:00, 319.89it/s]\n"
     ]
    },
    {
     "name": "stdout",
     "output_type": "stream",
     "text": [
      "🎯 Результаты тестирования:\n",
      "   Test Loss: 4.9178\n",
      "   Test Accuracy: 0.1692\n",
      "   Количество примеров: 408430\n"
     ]
    }
   ],
   "source": [
    "# Тестирование и анализ\n",
    "print(f\"🔄 Загружаем лучшую модель из эпохи {best_epoch}...\")    \n",
    "checkpoint = torch.load(config['model_dir'] / 'best_model.pth')\n",
    "model.load_state_dict(checkpoint['model_state_dict'])\n",
    "\n",
    "test_accuracy, test_loss = test_model(model, test_loader, criterion, device)\n",
    "            "
   ]
  },
  {
   "cell_type": "code",
   "execution_count": 11,
   "id": "8b3bf4be",
   "metadata": {},
   "outputs": [
    {
     "name": "stdout",
     "output_type": "stream",
     "text": [
      "💾 Результаты сохранены в: training_results_2025_10_25_21_12.json\n"
     ]
    }
   ],
   "source": [
    "# Сохранение результатов\n",
    "results = {\n",
    "    'best_validation_accuracy': best_val_acc,\n",
    "    'best_epoch': best_epoch,\n",
    "    'test_accuracy': test_accuracy,\n",
    "    'test_loss': test_loss,\n",
    "    'final_training_epochs': epoch + 1,\n",
    "    'dataset_statistics': {\n",
    "        'number_of_input_samples': config['limit'],\n",
    "        'train_samples': len(train_ds),\n",
    "        'validation_samples': len(val_ds),\n",
    "        'test_samples': len(test_ds),\n",
    "        'total_samples': len(train_ds) + len(val_ds) + len(test_ds),\n",
    "    },\n",
    "    'model_architecture': {\n",
    "        'model_type': 'NextPhrasePredictionRNN',\n",
    "        'rnn_type': config['rnn_type'],\n",
    "        'vocab_size': tokenizer.vocab_size,\n",
    "        'embedding_dim': config['emb_dim'],\n",
    "        'hidden_dim': config['hidden_dim'],\n",
    "        'max_sequence_length': config['MAX_LEN'],\n",
    "        'num_layers': config['num_layers']\n",
    "    }\n",
    "}\n",
    "\n",
    "timestamp = datetime.now().strftime('%Y_%m_%d_%H_%M')\n",
    "results_filename = f'training_results_{timestamp}.json'\n",
    "with open(config['model_dir'] / results_filename, 'w') as f:\n",
    "    json.dump(results, f, indent=2)\n",
    "\n",
    "print(f\"💾 Результаты сохранены в: {results_filename}\")"
   ]
  },
  {
   "cell_type": "code",
   "execution_count": 12,
   "id": "75fe1365",
   "metadata": {},
   "outputs": [
    {
     "name": "stdout",
     "output_type": "stream",
     "text": [
      "\n",
      "============================================================\n",
      "🔍 АНАЛИЗ ПРЕДСКАЗАНИЙ НА ТЕСТОВОЙ ВЫБОРКЕ\n",
      "============================================================\n",
      "\n",
      "❌ Примеры НЕПРАВИЛЬНЫХ предсказаний (5 из 817):\n",
      "--------------------------------------------------\n",
      "1. Контекст: ...sorry that\n",
      "   Истинный токен: '##s' | Предсказанный: 'i'\n",
      "   Статус: 🚫 ОШИБКА\n",
      "   Разница длины: 3 vs 1\n",
      "\n",
      "2. Контекст: ...if i have passed my\n",
      "   Истинный токен: 'n' | Предсказанный: 'phone'\n",
      "   Статус: 🚫 ОШИБКА\n",
      "   Разница длины: 1 vs 5\n",
      "\n",
      "3. Контекст: ...importantly rest in peace big\n",
      "   Истинный токен: 'moose' | Предсказанный: 'time'\n",
      "   Статус: 🚫 ОШИБКА\n",
      "   Разница длины: 5 vs 4\n",
      "\n",
      "4. Контекст: ...say\n",
      "   Истинный токен: 'they' | Предсказанный: 'i'\n",
      "   Статус: 🚫 ОШИБКА\n",
      "   Разница длины: 4 vs 1\n",
      "\n",
      "5. Контекст: ...you following me anymore\n",
      "   Истинный токен: 'ha' | Предсказанный: 'i'\n",
      "   Статус: 🚫 ОШИБКА\n",
      "   Разница длины: 2 vs 1\n",
      "\n",
      "\n",
      "✅ Примеры ПРАВИЛЬНЫХ предсказаний (5 из 266):\n",
      "--------------------------------------------------\n",
      "1. Контекст: ...just say yes iv\n",
      "   Истинный токен: '##e' | Предсказанный: '##e'\n",
      "   Статус: ✅ ВЕРНО\n",
      "\n",
      "2. Контекст: ...we just went back\n",
      "   Истинный токен: 'to' | Предсказанный: 'to'\n",
      "   Статус: ✅ ВЕРНО\n",
      "\n",
      "3. Контекст: ...its going sideways i don\n",
      "   Истинный токен: '##t' | Предсказанный: '##t'\n",
      "   Статус: ✅ ВЕРНО\n",
      "\n",
      "4. Контекст: ...have\n",
      "   Истинный токен: 'to' | Предсказанный: 'to'\n",
      "   Статус: ✅ ВЕРНО\n",
      "\n",
      "5. Контекст: ...got ##o large lau\n",
      "   Истинный токен: 'lau' | Предсказанный: 'lau'\n",
      "   Статус: ✅ ВЕРНО\n",
      "\n",
      "\n",
      "📊 СТАТИСТИКА ПРЕДСКАЗАНИЙ:\n",
      "   Всего предсказаний: 1083\n",
      "   Правильных: 266 (24.56%)\n",
      "   Неправильных: 817 (75.44%)\n",
      "   Средняя длина контекста при ошибках: 3.9 токенов\n",
      "\n",
      "🔝 Топ-10 самых частых ошибок:\n",
      "  'a' → 'the': 7 раз\n",
      "  'for' → 'and': 5 раз\n",
      "  'you' → 'i': 5 раз\n",
      "  '##s' → 'i': 5 раз\n",
      "  'to' → 'i': 5 раз\n",
      "  'and' → 'i': 5 раз\n",
      "  'that' → 'i': 5 раз\n",
      "  'it' → 'the': 4 раз\n",
      "  'to' → 'a': 4 раз\n",
      "  'i' → 'and': 4 раз\n",
      "\n",
      "📏 Средняя разница в длине токенов при ошибках: 2.01\n"
     ]
    }
   ],
   "source": [
    "# Анализ предсказаний\n",
    "bad_cases, good_cases = analyze_predictions(model, test_loader, tokenizer, device)\n",
    "analyze_error_patterns(bad_cases, tokenizer)\n"
   ]
  },
  {
   "cell_type": "code",
   "execution_count": 13,
   "id": "a200d513",
   "metadata": {},
   "outputs": [
    {
     "name": "stdout",
     "output_type": "stream",
     "text": [
      "\n",
      "============================================================\n",
      "🔬 ДЕТАЛЬНЫЙ АНАЛИЗ РАБОТЫ МОДЕЛИ\n",
      "============================================================\n",
      "\n",
      "📝 Пример 1:\n",
      "----------------------------------------\n",
      "Входной текст: need ta clean which one\n",
      "Ожидаемый вывод: ta clean which one sleep\n",
      "Предсказанный вывод: toco and is i\n",
      "\n",
      "Сравнение по токенам:\n",
      "  ❌ Позиция 0: 'ta' vs 'to'\n",
      "  ❌ Позиция 1: 'clean' vs '##co'\n",
      "  ❌ Позиция 2: 'which' vs 'and'\n",
      "  ❌ Позиция 3: 'one' vs 'is'\n",
      "  ❌ Позиция 4: 'sleep' vs 'i'\n",
      "\n",
      "\n",
      "📝 Пример 2:\n",
      "----------------------------------------\n",
      "Входной текст: but i won the raf\n",
      "Ожидаемый вывод: i won the raffle\n",
      "Предсказанный вывод: i cant lasta\n",
      "\n",
      "Сравнение по токенам:\n",
      "  ✅ Позиция 0: 'i' vs 'i'\n",
      "  ❌ Позиция 1: 'won' vs 'can'\n",
      "  ❌ Позиция 2: 'the' vs '##t'\n",
      "  ❌ Позиция 3: 'raf' vs 'last'\n",
      "  ❌ Позиция 4: '##fle' vs '##a'\n",
      "\n",
      "\n",
      "📝 Пример 3:\n",
      "----------------------------------------\n",
      "Входной текст: ##fle dulce for the culture crawl what did i\n",
      "Ожидаемый вывод: dulce for the culture crawl what did i win\n",
      "Предсказанный вывод: ##xhs the the withinfish a i have\n",
      "\n",
      "Сравнение по токенам:\n",
      "  ❌ Позиция 0: 'du' vs '##x'\n",
      "  ❌ Позиция 1: '##lce' vs '##h'\n",
      "  ❌ Позиция 2: 'for' vs '##s'\n",
      "  ✅ Позиция 3: 'the' vs 'the'\n",
      "  ❌ Позиция 4: 'culture' vs 'the'\n",
      "  ❌ Позиция 5: 'crawl' vs 'within'\n",
      "  ❌ Позиция 6: 'what' vs '##fish'\n",
      "  ❌ Позиция 7: 'did' vs 'a'\n",
      "  ✅ Позиция 8: 'i' vs 'i'\n",
      "  ❌ Позиция 9: 'win' vs 'have'\n",
      "\n"
     ]
    }
   ],
   "source": [
    "# Детальный анализ конкретных примеров    \n",
    "show_detailed_examples(model, test_loader, tokenizer, num_examples=3)"
   ]
  },
  {
   "cell_type": "code",
   "execution_count": 14,
   "id": "0987700f",
   "metadata": {},
   "outputs": [
    {
     "data": {
      "image/png": "[encoded data removed]",
      "text/plain": [
       "<Figure size 1600x1000 with 6 Axes>"
      ]
     },
     "metadata": {},
     "output_type": "display_data"
    },
    {
     "name": "stdout",
     "output_type": "stream",
     "text": [
      "📊 Графики сохранены в: training_results.png\n"
     ]
    }
   ],
   "source": [
    "# Визуализация результатов\n",
    "\n",
    "create_visualization(\n",
    "    train_losses=train_losses,\n",
    "    val_losses=val_losses,\n",
    "    val_accuracies=val_accuracies,\n",
    "    best_val_acc=best_val_acc,\n",
    "    test_accuracy=test_accuracy,\n",
    "    val_rouge_metrics=val_rouge_metrics,\n",
    "    #test_rouge_metrics=test_rouge,  # если есть тестовые ROUGE метрики\n",
    "    config=config\n",
    ")\n",
    "\n",
    "\n",
    "print(f\"📊 Графики сохранены в: training_results.png\")\n"
   ]
  }
 ],
 "metadata": {
  "kernelspec": {
   "display_name": ".venv",
   "language": "python",
   "name": "python3"
  },
  "language_info": {
   "codemirror_mode": {
    "name": "ipython",
    "version": 3
   },
   "file_extension": ".py",
   "mimetype": "text/x-python",
   "name": "python",
   "nbconvert_exporter": "python",
   "pygments_lexer": "ipython3",
   "version": "3.11.9"
  }
 },
 "nbformat": 4,
 "nbformat_minor": 5
}
